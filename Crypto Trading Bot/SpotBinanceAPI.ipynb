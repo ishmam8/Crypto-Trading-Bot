{
 "cells": [
  {
   "cell_type": "code",
   "execution_count": 5,
   "metadata": {},
   "outputs": [],
   "source": [
    "import pandas as pd\n",
    "from binance import Client \n",
    "#from binance import BinanceSocketManager\n",
    "#https://readthedocs.org/projects/python-binance/downloads/pdf/latest/\n",
    "#https://binance-docs.github.io/apidocs/spot/en/#get-detail-on-sub-account-39-s-margin-account-for-master-account"
   ]
  },
  {
   "cell_type": "code",
   "execution_count": 6,
   "metadata": {},
   "outputs": [],
   "source": [
    "api_key = 'apikey'\n",
    "api_secret = 'secret'"
   ]
  },
  {
   "cell_type": "code",
   "execution_count": 7,
   "metadata": {},
   "outputs": [],
   "source": [
    "client = Client(api_key, api_secret)"
   ]
  },
  {
   "cell_type": "code",
   "execution_count": 8,
   "metadata": {
    "collapsed": true
   },
   "outputs": [
    {
     "data": {
      "text/plain": [
       "{'makerCommission': 10,\n",
       " 'takerCommission': 10,\n",
       " 'buyerCommission': 0,\n",
       " 'sellerCommission': 0,\n",
       " 'canTrade': True,\n",
       " 'canWithdraw': True,\n",
       " 'canDeposit': True,\n",
       " 'updateTime': 1642043593238,\n",
       " 'accountType': 'SPOT',\n",
       " 'balances': [{'asset': 'BTC', 'free': '0.00000000', 'locked': '0.00000000'},\n",
       "  {'asset': 'LTC', 'free': '0.00000000', 'locked': '0.00000000'},\n",
       "  {'asset': 'ETH', 'free': '0.00000000', 'locked': '0.00000000'},\n",
       "  {'asset': 'NEO', 'free': '0.00000000', 'locked': '0.00000000'},\n",
       "  {'asset': 'BNB', 'free': '0.02820324', 'locked': '0.00000000'},\n",
       "  {'asset': 'QTUM', 'free': '0.00000000', 'locked': '0.00000000'},\n",
       "  {'asset': 'EOS', 'free': '0.00000000', 'locked': '0.00000000'},\n",
       "  {'asset': 'SNT', 'free': '0.00000000', 'locked': '0.00000000'},\n",
       "  {'asset': 'BNT', 'free': '0.00000000', 'locked': '0.00000000'},\n",
       "  {'asset': 'GAS', 'free': '0.00000000', 'locked': '0.00000000'},\n",
       "  {'asset': 'BCC', 'free': '0.00000000', 'locked': '0.00000000'},\n",
       "  {'asset': 'USDT', 'free': '0.15473974', 'locked': '0.00000000'},\n",
       "  {'asset': 'HSR', 'free': '0.00000000', 'locked': '0.00000000'},\n",
       "  {'asset': 'OAX', 'free': '0.00000000', 'locked': '0.00000000'},\n",
       "  {'asset': 'DNT', 'free': '0.00000000', 'locked': '0.00000000'},\n",
       "  {'asset': 'MCO', 'free': '0.00000000', 'locked': '0.00000000'},\n",
       "  {'asset': 'ICN', 'free': '0.00000000', 'locked': '0.00000000'},\n",
       "  {'asset': 'ZRX', 'free': '0.00000000', 'locked': '0.00000000'},\n",
       "  {'asset': 'OMG', 'free': '0.00000000', 'locked': '0.00000000'},\n",
       "  {'asset': 'WTC', 'free': '0.00000000', 'locked': '0.00000000'},\n",
       "  {'asset': 'YOYO', 'free': '0.00000000', 'locked': '0.00000000'},\n",
       "  {'asset': 'LRC', 'free': '0.00000000', 'locked': '0.00000000'},\n",
       "  {'asset': 'TRX', 'free': '0.00000000', 'locked': '0.00000000'},\n",
       "  {'asset': 'SNGLS', 'free': '0.00000000', 'locked': '0.00000000'},\n",
       "  {'asset': 'STRAT', 'free': '0.00000000', 'locked': '0.00000000'},\n",
       "  {'asset': 'BQX', 'free': '0.00000000', 'locked': '0.00000000'},\n",
       "  {'asset': 'FUN', 'free': '0.00000000', 'locked': '0.00000000'},\n",
       "  {'asset': 'KNC', 'free': '0.00000000', 'locked': '0.00000000'},\n",
       "  {'asset': 'CDT', 'free': '0.00000000', 'locked': '0.00000000'},\n",
       "  {'asset': 'XVG', 'free': '0.00000000', 'locked': '0.00000000'},\n",
       "  {'asset': 'IOTA', 'free': '0.00000000', 'locked': '0.00000000'},\n",
       "  {'asset': 'SNM', 'free': '0.00000000', 'locked': '0.00000000'},\n",
       "  {'asset': 'LINK', 'free': '0.00000000', 'locked': '0.00000000'},\n",
       "  {'asset': 'CVC', 'free': '0.00000000', 'locked': '0.00000000'},\n",
       "  {'asset': 'TNT', 'free': '0.00000000', 'locked': '0.00000000'},\n",
       "  {'asset': 'REP', 'free': '0.00000000', 'locked': '0.00000000'},\n",
       "  {'asset': 'MDA', 'free': '0.00000000', 'locked': '0.00000000'},\n",
       "  {'asset': 'MTL', 'free': '0.00000000', 'locked': '0.00000000'},\n",
       "  {'asset': 'SALT', 'free': '0.00000000', 'locked': '0.00000000'},\n",
       "  {'asset': 'NULS', 'free': '0.00000000', 'locked': '0.00000000'},\n",
       "  {'asset': 'SUB', 'free': '0.00000000', 'locked': '0.00000000'},\n",
       "  {'asset': 'STX', 'free': '0.00000000', 'locked': '0.00000000'},\n",
       "  {'asset': 'MTH', 'free': '0.00000000', 'locked': '0.00000000'},\n",
       "  {'asset': 'ADX', 'free': '0.00000000', 'locked': '0.00000000'},\n",
       "  {'asset': 'ETC', 'free': '0.00000000', 'locked': '0.00000000'},\n",
       "  {'asset': 'ENG', 'free': '0.00000000', 'locked': '0.00000000'},\n",
       "  {'asset': 'ZEC', 'free': '0.00000000', 'locked': '0.00000000'},\n",
       "  {'asset': 'AST', 'free': '0.00000000', 'locked': '0.00000000'},\n",
       "  {'asset': 'GNT', 'free': '0.00000000', 'locked': '0.00000000'},\n",
       "  {'asset': 'DGD', 'free': '0.00000000', 'locked': '0.00000000'},\n",
       "  {'asset': 'BAT', 'free': '0.00000000', 'locked': '0.00000000'},\n",
       "  {'asset': 'DASH', 'free': '0.00000000', 'locked': '0.00000000'},\n",
       "  {'asset': 'POWR', 'free': '0.00000000', 'locked': '0.00000000'},\n",
       "  {'asset': 'BTG', 'free': '0.00000000', 'locked': '0.00000000'},\n",
       "  {'asset': 'REQ', 'free': '0.00000000', 'locked': '0.00000000'},\n",
       "  {'asset': 'XMR', 'free': '0.00000000', 'locked': '0.00000000'},\n",
       "  {'asset': 'EVX', 'free': '0.00000000', 'locked': '0.00000000'},\n",
       "  {'asset': 'VIB', 'free': '0.00000000', 'locked': '0.00000000'},\n",
       "  {'asset': 'ENJ', 'free': '0.00000000', 'locked': '0.00000000'},\n",
       "  {'asset': 'VEN', 'free': '0.00000000', 'locked': '0.00000000'},\n",
       "  {'asset': 'ARK', 'free': '0.00000000', 'locked': '0.00000000'},\n",
       "  {'asset': 'XRP', 'free': '0.00000000', 'locked': '0.00000000'},\n",
       "  {'asset': 'MOD', 'free': '0.00000000', 'locked': '0.00000000'},\n",
       "  {'asset': 'STORJ', 'free': '0.00000000', 'locked': '0.00000000'},\n",
       "  {'asset': 'KMD', 'free': '0.00000000', 'locked': '0.00000000'},\n",
       "  {'asset': 'RCN', 'free': '0.00000000', 'locked': '0.00000000'},\n",
       "  {'asset': 'EDO', 'free': '0.00000000', 'locked': '0.00000000'},\n",
       "  {'asset': 'DATA', 'free': '0.00000000', 'locked': '0.00000000'},\n",
       "  {'asset': 'DLT', 'free': '0.00000000', 'locked': '0.00000000'},\n",
       "  {'asset': 'MANA', 'free': '0.00000000', 'locked': '0.00000000'},\n",
       "  {'asset': 'PPT', 'free': '0.00000000', 'locked': '0.00000000'},\n",
       "  {'asset': 'RDN', 'free': '0.00000000', 'locked': '0.00000000'},\n",
       "  {'asset': 'GXS', 'free': '0.00000000', 'locked': '0.00000000'},\n",
       "  {'asset': 'AMB', 'free': '0.00000000', 'locked': '0.00000000'},\n",
       "  {'asset': 'ARN', 'free': '0.00000000', 'locked': '0.00000000'},\n",
       "  {'asset': 'BCPT', 'free': '0.00000000', 'locked': '0.00000000'},\n",
       "  {'asset': 'CND', 'free': '0.00000000', 'locked': '0.00000000'},\n",
       "  {'asset': 'GVT', 'free': '0.00000000', 'locked': '0.00000000'},\n",
       "  {'asset': 'POE', 'free': '0.00000000', 'locked': '0.00000000'},\n",
       "  {'asset': 'BTS', 'free': '0.00000000', 'locked': '0.00000000'},\n",
       "  {'asset': 'FUEL', 'free': '0.00000000', 'locked': '0.00000000'},\n",
       "  {'asset': 'XZC', 'free': '0.00000000', 'locked': '0.00000000'},\n",
       "  {'asset': 'QSP', 'free': '0.00000000', 'locked': '0.00000000'},\n",
       "  {'asset': 'LSK', 'free': '0.00000000', 'locked': '0.00000000'},\n",
       "  {'asset': 'BCD', 'free': '0.00000000', 'locked': '0.00000000'},\n",
       "  {'asset': 'TNB', 'free': '0.00000000', 'locked': '0.00000000'},\n",
       "  {'asset': 'ADA', 'free': '55.29743255', 'locked': '0.00000000'},\n",
       "  {'asset': 'LEND', 'free': '0.00000000', 'locked': '0.00000000'},\n",
       "  {'asset': 'XLM', 'free': '0.00000000', 'locked': '0.00000000'},\n",
       "  {'asset': 'CMT', 'free': '0.00000000', 'locked': '0.00000000'},\n",
       "  {'asset': 'WAVES', 'free': '0.00000000', 'locked': '0.00000000'},\n",
       "  {'asset': 'WABI', 'free': '0.00000000', 'locked': '0.00000000'},\n",
       "  {'asset': 'GTO', 'free': '0.00000000', 'locked': '0.00000000'},\n",
       "  {'asset': 'ICX', 'free': '0.00000000', 'locked': '0.00000000'},\n",
       "  {'asset': 'OST', 'free': '0.00000000', 'locked': '0.00000000'},\n",
       "  {'asset': 'ELF', 'free': '0.00000000', 'locked': '0.00000000'},\n",
       "  {'asset': 'AION', 'free': '0.00000000', 'locked': '0.00000000'},\n",
       "  {'asset': 'WINGS', 'free': '0.00000000', 'locked': '0.00000000'},\n",
       "  {'asset': 'BRD', 'free': '0.00000000', 'locked': '0.00000000'},\n",
       "  {'asset': 'NEBL', 'free': '0.00000000', 'locked': '0.00000000'},\n",
       "  {'asset': 'NAV', 'free': '0.00000000', 'locked': '0.00000000'},\n",
       "  {'asset': 'VIBE', 'free': '0.00000000', 'locked': '0.00000000'},\n",
       "  {'asset': 'LUN', 'free': '0.00000000', 'locked': '0.00000000'},\n",
       "  {'asset': 'TRIG', 'free': '0.00000000', 'locked': '0.00000000'},\n",
       "  {'asset': 'APPC', 'free': '0.00000000', 'locked': '0.00000000'},\n",
       "  {'asset': 'CHAT', 'free': '0.00000000', 'locked': '0.00000000'},\n",
       "  {'asset': 'RLC', 'free': '0.00000000', 'locked': '0.00000000'},\n",
       "  {'asset': 'INS', 'free': '0.00000000', 'locked': '0.00000000'},\n",
       "  {'asset': 'PIVX', 'free': '0.00000000', 'locked': '0.00000000'},\n",
       "  {'asset': 'IOST', 'free': '0.00000000', 'locked': '0.00000000'},\n",
       "  {'asset': 'STEEM', 'free': '0.00000000', 'locked': '0.00000000'},\n",
       "  {'asset': 'NANO', 'free': '0.00000000', 'locked': '0.00000000'},\n",
       "  {'asset': 'AE', 'free': '0.00000000', 'locked': '0.00000000'},\n",
       "  {'asset': 'VIA', 'free': '0.00000000', 'locked': '0.00000000'},\n",
       "  {'asset': 'BLZ', 'free': '0.00000000', 'locked': '0.00000000'},\n",
       "  {'asset': 'SYS', 'free': '0.00000000', 'locked': '0.00000000'},\n",
       "  {'asset': 'RPX', 'free': '0.00000000', 'locked': '0.00000000'},\n",
       "  {'asset': 'NCASH', 'free': '0.00000000', 'locked': '0.00000000'},\n",
       "  {'asset': 'POA', 'free': '0.00000000', 'locked': '0.00000000'},\n",
       "  {'asset': 'ONT', 'free': '0.00000000', 'locked': '0.00000000'},\n",
       "  {'asset': 'ZIL', 'free': '0.00000000', 'locked': '0.00000000'},\n",
       "  {'asset': 'STORM', 'free': '0.00000000', 'locked': '0.00000000'},\n",
       "  {'asset': 'XEM', 'free': '0.00000000', 'locked': '0.00000000'},\n",
       "  {'asset': 'WAN', 'free': '0.00000000', 'locked': '0.00000000'},\n",
       "  {'asset': 'WPR', 'free': '0.00000000', 'locked': '0.00000000'},\n",
       "  {'asset': 'QLC', 'free': '0.00000000', 'locked': '0.00000000'},\n",
       "  {'asset': 'GRS', 'free': '0.00000000', 'locked': '0.00000000'},\n",
       "  {'asset': 'CLOAK', 'free': '0.00000000', 'locked': '0.00000000'},\n",
       "  {'asset': 'LOOM', 'free': '0.00000000', 'locked': '0.00000000'},\n",
       "  {'asset': 'BCN', 'free': '0.00000000', 'locked': '0.00000000'},\n",
       "  {'asset': 'TUSD', 'free': '0.00000000', 'locked': '0.00000000'},\n",
       "  {'asset': 'ZEN', 'free': '0.00000000', 'locked': '0.00000000'},\n",
       "  {'asset': 'SKY', 'free': '0.00000000', 'locked': '0.00000000'},\n",
       "  {'asset': 'THETA', 'free': '0.00000000', 'locked': '0.00000000'},\n",
       "  {'asset': 'IOTX', 'free': '0.00000000', 'locked': '0.00000000'},\n",
       "  {'asset': 'QKC', 'free': '0.00000000', 'locked': '0.00000000'},\n",
       "  {'asset': 'AGI', 'free': '0.00000000', 'locked': '0.00000000'},\n",
       "  {'asset': 'NXS', 'free': '0.00000000', 'locked': '0.00000000'},\n",
       "  {'asset': 'SC', 'free': '0.00000000', 'locked': '0.00000000'},\n",
       "  {'asset': 'NPXS', 'free': '0.00000000', 'locked': '0.00000000'},\n",
       "  {'asset': 'KEY', 'free': '0.00000000', 'locked': '0.00000000'},\n",
       "  {'asset': 'NAS', 'free': '0.00000000', 'locked': '0.00000000'},\n",
       "  {'asset': 'MFT', 'free': '0.00000000', 'locked': '0.00000000'},\n",
       "  {'asset': 'DENT', 'free': '0.00000000', 'locked': '0.00000000'},\n",
       "  {'asset': 'IQ', 'free': '0.00000000', 'locked': '0.00000000'},\n",
       "  {'asset': 'ARDR', 'free': '0.00000000', 'locked': '0.00000000'},\n",
       "  {'asset': 'HOT', 'free': '0.00000000', 'locked': '0.00000000'},\n",
       "  {'asset': 'VET', 'free': '0.00000000', 'locked': '0.00000000'},\n",
       "  {'asset': 'DOCK', 'free': '0.00000000', 'locked': '0.00000000'},\n",
       "  {'asset': 'POLY', 'free': '0.00000000', 'locked': '0.00000000'},\n",
       "  {'asset': 'VTHO', 'free': '0.00000000', 'locked': '0.00000000'},\n",
       "  {'asset': 'ONG', 'free': '0.00000000', 'locked': '0.00000000'},\n",
       "  {'asset': 'PHX', 'free': '0.00000000', 'locked': '0.00000000'},\n",
       "  {'asset': 'HC', 'free': '0.00000000', 'locked': '0.00000000'},\n",
       "  {'asset': 'GO', 'free': '0.00000000', 'locked': '0.00000000'},\n",
       "  {'asset': 'PAX', 'free': '0.00000000', 'locked': '0.00000000'},\n",
       "  {'asset': 'RVN', 'free': '0.00000000', 'locked': '0.00000000'},\n",
       "  {'asset': 'DCR', 'free': '0.00000000', 'locked': '0.00000000'},\n",
       "  {'asset': 'USDC', 'free': '0.00000000', 'locked': '0.00000000'},\n",
       "  {'asset': 'MITH', 'free': '0.00000000', 'locked': '0.00000000'},\n",
       "  {'asset': 'BCHABC', 'free': '0.00000000', 'locked': '0.00000000'},\n",
       "  {'asset': 'BCHSV', 'free': '0.00000000', 'locked': '0.00000000'},\n",
       "  {'asset': 'REN', 'free': '0.00000000', 'locked': '0.00000000'},\n",
       "  {'asset': 'BTT', 'free': '0.00000000', 'locked': '0.00000000'},\n",
       "  {'asset': 'USDS', 'free': '0.00000000', 'locked': '0.00000000'},\n",
       "  {'asset': 'FET', 'free': '0.00000000', 'locked': '0.00000000'},\n",
       "  {'asset': 'TFUEL', 'free': '0.00000000', 'locked': '0.00000000'},\n",
       "  {'asset': 'CELR', 'free': '0.00000000', 'locked': '0.00000000'},\n",
       "  {'asset': 'MATIC', 'free': '0.00000000', 'locked': '0.00000000'},\n",
       "  {'asset': 'ATOM', 'free': '0.00000000', 'locked': '0.00000000'},\n",
       "  {'asset': 'PHB', 'free': '0.00000000', 'locked': '0.00000000'},\n",
       "  {'asset': 'ONE', 'free': '0.00000000', 'locked': '0.00000000'},\n",
       "  {'asset': 'FTM', 'free': '0.00000000', 'locked': '0.00000000'},\n",
       "  {'asset': 'BTCB', 'free': '0.00000000', 'locked': '0.00000000'},\n",
       "  {'asset': 'USDSB', 'free': '0.00000000', 'locked': '0.00000000'},\n",
       "  {'asset': 'CHZ', 'free': '0.00000000', 'locked': '0.00000000'},\n",
       "  {'asset': 'COS', 'free': '0.00000000', 'locked': '0.00000000'},\n",
       "  {'asset': 'ALGO', 'free': '0.00000000', 'locked': '0.00000000'},\n",
       "  {'asset': 'ERD', 'free': '0.00000000', 'locked': '0.00000000'},\n",
       "  {'asset': 'DOGE', 'free': '0.00000000', 'locked': '0.00000000'},\n",
       "  {'asset': 'BGBP', 'free': '0.00000000', 'locked': '0.00000000'},\n",
       "  {'asset': 'DUSK', 'free': '0.00000000', 'locked': '0.00000000'},\n",
       "  {'asset': 'ANKR', 'free': '0.00000000', 'locked': '0.00000000'},\n",
       "  {'asset': 'WIN', 'free': '0.00000000', 'locked': '0.00000000'},\n",
       "  {'asset': 'TUSDB', 'free': '0.00000000', 'locked': '0.00000000'},\n",
       "  {'asset': 'COCOS', 'free': '0.00000000', 'locked': '0.00000000'},\n",
       "  {'asset': 'PERL', 'free': '0.00000000', 'locked': '0.00000000'},\n",
       "  {'asset': 'TOMO', 'free': '0.00000000', 'locked': '0.00000000'},\n",
       "  {'asset': 'BUSD', 'free': '0.00000000', 'locked': '0.00000000'},\n",
       "  {'asset': 'BAND', 'free': '0.00000000', 'locked': '0.00000000'},\n",
       "  {'asset': 'BEAM', 'free': '0.00000000', 'locked': '0.00000000'},\n",
       "  {'asset': 'HBAR', 'free': '0.00000000', 'locked': '0.00000000'},\n",
       "  {'asset': 'XTZ', 'free': '0.00000000', 'locked': '0.00000000'},\n",
       "  {'asset': 'NGN', 'free': '0.00000000', 'locked': '0.00000000'},\n",
       "  {'asset': 'DGB', 'free': '0.00000000', 'locked': '0.00000000'},\n",
       "  {'asset': 'NKN', 'free': '0.00000000', 'locked': '0.00000000'},\n",
       "  {'asset': 'GBP', 'free': '0.00000000', 'locked': '0.00000000'},\n",
       "  {'asset': 'EUR', 'free': '0.00000000', 'locked': '0.00000000'},\n",
       "  {'asset': 'KAVA', 'free': '0.00000000', 'locked': '0.00000000'},\n",
       "  {'asset': 'RUB', 'free': '0.00000000', 'locked': '0.00000000'},\n",
       "  {'asset': 'LDUSDT', 'free': '15.48189000', 'locked': '0.00000000'},\n",
       "  {'asset': 'UAH', 'free': '0.00000000', 'locked': '0.00000000'},\n",
       "  {'asset': 'ARPA', 'free': '0.00000000', 'locked': '0.00000000'},\n",
       "  {'asset': 'TRY', 'free': '0.00000000', 'locked': '0.00000000'},\n",
       "  {'asset': 'CTXC', 'free': '0.00000000', 'locked': '0.00000000'},\n",
       "  {'asset': 'AERGO', 'free': '0.00000000', 'locked': '0.00000000'},\n",
       "  {'asset': 'BCH', 'free': '0.00000000', 'locked': '0.00000000'},\n",
       "  {'asset': 'TROY', 'free': '0.00000000', 'locked': '0.00000000'},\n",
       "  {'asset': 'BRL', 'free': '0.00000000', 'locked': '0.00000000'},\n",
       "  {'asset': 'VITE', 'free': '0.00000000', 'locked': '0.00000000'},\n",
       "  {'asset': 'FTT', 'free': '0.00000000', 'locked': '0.00000000'},\n",
       "  {'asset': 'AUD', 'free': '0.00000000', 'locked': '0.00000000'},\n",
       "  {'asset': 'OGN', 'free': '0.00000000', 'locked': '0.00000000'},\n",
       "  {'asset': 'DREP', 'free': '0.00000000', 'locked': '0.00000000'},\n",
       "  {'asset': 'BULL', 'free': '0.00000000', 'locked': '0.00000000'},\n",
       "  {'asset': 'BEAR', 'free': '0.00000000', 'locked': '0.00000000'},\n",
       "  {'asset': 'ETHBULL', 'free': '0.00000000', 'locked': '0.00000000'},\n",
       "  {'asset': 'ETHBEAR', 'free': '0.00000000', 'locked': '0.00000000'},\n",
       "  {'asset': 'XRPBULL', 'free': '0.00000000', 'locked': '0.00000000'},\n",
       "  {'asset': 'XRPBEAR', 'free': '0.00000000', 'locked': '0.00000000'},\n",
       "  {'asset': 'EOSBULL', 'free': '0.00000000', 'locked': '0.00000000'},\n",
       "  {'asset': 'EOSBEAR', 'free': '0.00000000', 'locked': '0.00000000'},\n",
       "  {'asset': 'TCT', 'free': '0.00000000', 'locked': '0.00000000'},\n",
       "  {'asset': 'WRX', 'free': '0.00000000', 'locked': '0.00000000'},\n",
       "  {'asset': 'LTO', 'free': '0.00000000', 'locked': '0.00000000'},\n",
       "  {'asset': 'ZAR', 'free': '0.00000000', 'locked': '0.00000000'},\n",
       "  {'asset': 'MBL', 'free': '0.00000000', 'locked': '0.00000000'},\n",
       "  {'asset': 'COTI', 'free': '0.00000000', 'locked': '0.00000000'},\n",
       "  {'asset': 'BKRW', 'free': '0.00000000', 'locked': '0.00000000'},\n",
       "  {'asset': 'BNBBULL', 'free': '0.00000000', 'locked': '0.00000000'},\n",
       "  {'asset': 'BNBBEAR', 'free': '0.00000000', 'locked': '0.00000000'},\n",
       "  {'asset': 'HIVE', 'free': '0.00000000', 'locked': '0.00000000'},\n",
       "  {'asset': 'STPT', 'free': '0.00000000', 'locked': '0.00000000'},\n",
       "  {'asset': 'SOL', 'free': '0.00000000', 'locked': '0.00000000'},\n",
       "  {'asset': 'IDRT', 'free': '0.00', 'locked': '0.00'},\n",
       "  {'asset': 'CTSI', 'free': '0.00000000', 'locked': '0.00000000'},\n",
       "  {'asset': 'CHR', 'free': '0.00000000', 'locked': '0.00000000'},\n",
       "  {'asset': 'BTCUP', 'free': '0.00000000', 'locked': '0.00000000'},\n",
       "  {'asset': 'BTCDOWN', 'free': '0.00000000', 'locked': '0.00000000'},\n",
       "  {'asset': 'HNT', 'free': '0.00000000', 'locked': '0.00000000'},\n",
       "  {'asset': 'JST', 'free': '0.00000000', 'locked': '0.00000000'},\n",
       "  {'asset': 'FIO', 'free': '0.00000000', 'locked': '0.00000000'},\n",
       "  {'asset': 'BIDR', 'free': '0.00', 'locked': '0.00'},\n",
       "  {'asset': 'STMX', 'free': '0.00000000', 'locked': '0.00000000'},\n",
       "  {'asset': 'MDT', 'free': '0.00000000', 'locked': '0.00000000'},\n",
       "  {'asset': 'PNT', 'free': '0.00000000', 'locked': '0.00000000'},\n",
       "  {'asset': 'COMP', 'free': '0.00000000', 'locked': '0.00000000'},\n",
       "  {'asset': 'IRIS', 'free': '0.00000000', 'locked': '0.00000000'},\n",
       "  {'asset': 'MKR', 'free': '0.00000000', 'locked': '0.00000000'},\n",
       "  {'asset': 'SXP', 'free': '0.00000000', 'locked': '0.00000000'},\n",
       "  {'asset': 'SNX', 'free': '0.00000000', 'locked': '0.00000000'},\n",
       "  {'asset': 'DAI', 'free': '0.00000000', 'locked': '0.00000000'},\n",
       "  {'asset': 'ETHUP', 'free': '0.00000000', 'locked': '0.00000000'},\n",
       "  {'asset': 'ETHDOWN', 'free': '0.00000000', 'locked': '0.00000000'},\n",
       "  {'asset': 'ADAUP', 'free': '0.00000000', 'locked': '0.00000000'},\n",
       "  {'asset': 'ADADOWN', 'free': '0.00000000', 'locked': '0.00000000'},\n",
       "  {'asset': 'LINKUP', 'free': '0.00000000', 'locked': '0.00000000'},\n",
       "  {'asset': 'LINKDOWN', 'free': '0.00000000', 'locked': '0.00000000'},\n",
       "  {'asset': 'DOT', 'free': '0.00000000', 'locked': '0.00000000'},\n",
       "  {'asset': 'RUNE', 'free': '0.00000000', 'locked': '0.00000000'},\n",
       "  {'asset': 'BNBUP', 'free': '0.00000000', 'locked': '0.00000000'},\n",
       "  {'asset': 'BNBDOWN', 'free': '0.00000000', 'locked': '0.00000000'},\n",
       "  {'asset': 'XTZUP', 'free': '0.00000000', 'locked': '0.00000000'},\n",
       "  {'asset': 'XTZDOWN', 'free': '0.00000000', 'locked': '0.00000000'},\n",
       "  {'asset': 'AVA', 'free': '0.00000000', 'locked': '0.00000000'},\n",
       "  {'asset': 'BAL', 'free': '0.00000000', 'locked': '0.00000000'},\n",
       "  {'asset': 'YFI', 'free': '0.00000000', 'locked': '0.00000000'},\n",
       "  {'asset': 'SRM', 'free': '0.00000000', 'locked': '0.00000000'},\n",
       "  {'asset': 'ANT', 'free': '0.00000000', 'locked': '0.00000000'},\n",
       "  {'asset': 'CRV', 'free': '0.00000000', 'locked': '0.00000000'},\n",
       "  {'asset': 'SAND', 'free': '0.00000000', 'locked': '0.00000000'},\n",
       "  {'asset': 'OCEAN', 'free': '0.00000000', 'locked': '0.00000000'},\n",
       "  {'asset': 'NMR', 'free': '0.00000000', 'locked': '0.00000000'},\n",
       "  {'asset': 'LUNA', 'free': '0.00000000', 'locked': '0.00000000'},\n",
       "  {'asset': 'IDEX', 'free': '0.00000000', 'locked': '0.00000000'},\n",
       "  {'asset': 'RSR', 'free': '0.00000000', 'locked': '0.00000000'},\n",
       "  {'asset': 'PAXG', 'free': '0.00000000', 'locked': '0.00000000'},\n",
       "  {'asset': 'WNXM', 'free': '0.00000000', 'locked': '0.00000000'},\n",
       "  {'asset': 'TRB', 'free': '0.00000000', 'locked': '0.00000000'},\n",
       "  {'asset': 'EGLD', 'free': '0.00000000', 'locked': '0.00000000'},\n",
       "  {'asset': 'BZRX', 'free': '0.00000000', 'locked': '0.00000000'},\n",
       "  {'asset': 'WBTC', 'free': '0.00000000', 'locked': '0.00000000'},\n",
       "  {'asset': 'KSM', 'free': '0.00000000', 'locked': '0.00000000'},\n",
       "  {'asset': 'SUSHI', 'free': '0.00000000', 'locked': '0.00000000'},\n",
       "  {'asset': 'YFII', 'free': '0.00000000', 'locked': '0.00000000'},\n",
       "  {'asset': 'DIA', 'free': '0.00000000', 'locked': '0.00000000'},\n",
       "  {'asset': 'BEL', 'free': '0.00000000', 'locked': '0.00000000'},\n",
       "  {'asset': 'UMA', 'free': '0.00000000', 'locked': '0.00000000'},\n",
       "  {'asset': 'EOSUP', 'free': '0.00000000', 'locked': '0.00000000'},\n",
       "  {'asset': 'TRXUP', 'free': '0.00000000', 'locked': '0.00000000'},\n",
       "  {'asset': 'EOSDOWN', 'free': '0.00000000', 'locked': '0.00000000'},\n",
       "  {'asset': 'TRXDOWN', 'free': '0.00000000', 'locked': '0.00000000'},\n",
       "  {'asset': 'XRPUP', 'free': '0.00000000', 'locked': '0.00000000'},\n",
       "  {'asset': 'XRPDOWN', 'free': '0.00000000', 'locked': '0.00000000'},\n",
       "  {'asset': 'DOTUP', 'free': '0.00000000', 'locked': '0.00000000'},\n",
       "  {'asset': 'DOTDOWN', 'free': '0.00000000', 'locked': '0.00000000'},\n",
       "  {'asset': 'NBS', 'free': '0.00000000', 'locked': '0.00000000'},\n",
       "  {'asset': 'WING', 'free': '0.00000000', 'locked': '0.00000000'},\n",
       "  {'asset': 'SWRV', 'free': '0.00000000', 'locked': '0.00000000'},\n",
       "  {'asset': 'LTCUP', 'free': '0.00000000', 'locked': '0.00000000'},\n",
       "  {'asset': 'LTCDOWN', 'free': '0.00000000', 'locked': '0.00000000'},\n",
       "  {'asset': 'CREAM', 'free': '0.00000000', 'locked': '0.00000000'},\n",
       "  {'asset': 'UNI', 'free': '0.00000000', 'locked': '0.00000000'},\n",
       "  {'asset': 'OXT', 'free': '0.00000000', 'locked': '0.00000000'},\n",
       "  {'asset': 'SUN', 'free': '0.00000000', 'locked': '0.00000000'},\n",
       "  {'asset': 'AVAX', 'free': '0.00000000', 'locked': '0.00000000'},\n",
       "  {'asset': 'BURGER', 'free': '0.00000000', 'locked': '0.00000000'},\n",
       "  {'asset': 'BAKE', 'free': '0.00000000', 'locked': '0.00000000'},\n",
       "  {'asset': 'FLM', 'free': '0.00000000', 'locked': '0.00000000'},\n",
       "  {'asset': 'SCRT', 'free': '0.00000000', 'locked': '0.00000000'},\n",
       "  {'asset': 'XVS', 'free': '0.00000000', 'locked': '0.00000000'},\n",
       "  {'asset': 'CAKE', 'free': '0.00000000', 'locked': '0.00000000'},\n",
       "  {'asset': 'SPARTA', 'free': '0.00000000', 'locked': '0.00000000'},\n",
       "  {'asset': 'UNIUP', 'free': '0.00000000', 'locked': '0.00000000'},\n",
       "  {'asset': 'UNIDOWN', 'free': '0.00000000', 'locked': '0.00000000'},\n",
       "  {'asset': 'ALPHA', 'free': '0.00000000', 'locked': '0.00000000'},\n",
       "  {'asset': 'ORN', 'free': '0.00000000', 'locked': '0.00000000'},\n",
       "  {'asset': 'UTK', 'free': '0.00000000', 'locked': '0.00000000'},\n",
       "  {'asset': 'NEAR', 'free': '0.00000000', 'locked': '0.00000000'},\n",
       "  {'asset': 'VIDT', 'free': '0.00000000', 'locked': '0.00000000'},\n",
       "  {'asset': 'AAVE', 'free': '0.00000000', 'locked': '0.00000000'},\n",
       "  {'asset': 'FIL', 'free': '0.00000000', 'locked': '0.00000000'},\n",
       "  {'asset': 'SXPUP', 'free': '0.00000000', 'locked': '0.00000000'},\n",
       "  {'asset': 'SXPDOWN', 'free': '0.00000000', 'locked': '0.00000000'},\n",
       "  {'asset': 'INJ', 'free': '0.00000000', 'locked': '0.00000000'},\n",
       "  {'asset': 'FILDOWN', 'free': '0.00000000', 'locked': '0.00000000'},\n",
       "  {'asset': 'FILUP', 'free': '0.00000000', 'locked': '0.00000000'},\n",
       "  {'asset': 'YFIUP', 'free': '0.00000000', 'locked': '0.00000000'},\n",
       "  {'asset': 'YFIDOWN', 'free': '0.00000000', 'locked': '0.00000000'},\n",
       "  {'asset': 'CTK', 'free': '0.00000000', 'locked': '0.00000000'},\n",
       "  {'asset': 'EASY', 'free': '0.00000000', 'locked': '0.00000000'},\n",
       "  {'asset': 'AUDIO', 'free': '0.00000000', 'locked': '0.00000000'},\n",
       "  {'asset': 'BCHUP', 'free': '0.00000000', 'locked': '0.00000000'},\n",
       "  {'asset': 'BCHDOWN', 'free': '0.00000000', 'locked': '0.00000000'},\n",
       "  {'asset': 'BOT', 'free': '0.00000000', 'locked': '0.00000000'},\n",
       "  {'asset': 'AXS', 'free': '0.00000000', 'locked': '0.00000000'},\n",
       "  {'asset': 'AKRO', 'free': '0.00000000', 'locked': '0.00000000'},\n",
       "  {'asset': 'HARD', 'free': '0.00000000', 'locked': '0.00000000'},\n",
       "  {'asset': 'KP3R', 'free': '0.00000000', 'locked': '0.00000000'},\n",
       "  {'asset': 'RENBTC', 'free': '0.00000000', 'locked': '0.00000000'},\n",
       "  {'asset': 'SLP', 'free': '0.00000000', 'locked': '0.00000000'},\n",
       "  {'asset': 'STRAX', 'free': '0.00000000', 'locked': '0.00000000'},\n",
       "  {'asset': 'UNFI', 'free': '0.00000000', 'locked': '0.00000000'},\n",
       "  {'asset': 'CVP', 'free': '0.00000000', 'locked': '0.00000000'},\n",
       "  {'asset': 'BCHA', 'free': '0.00000000', 'locked': '0.00000000'},\n",
       "  {'asset': 'FOR', 'free': '0.00000000', 'locked': '0.00000000'},\n",
       "  {'asset': 'FRONT', 'free': '0.00000000', 'locked': '0.00000000'},\n",
       "  {'asset': 'ROSE', 'free': '0.00000000', 'locked': '0.00000000'},\n",
       "  {'asset': 'MDX', 'free': '0.00000000', 'locked': '0.00000000'},\n",
       "  {'asset': 'HEGIC', 'free': '0.00000000', 'locked': '0.00000000'},\n",
       "  {'asset': 'AAVEUP', 'free': '0.00000000', 'locked': '0.00000000'},\n",
       "  {'asset': 'AAVEDOWN', 'free': '0.00000000', 'locked': '0.00000000'},\n",
       "  {'asset': 'PROM', 'free': '0.00000000', 'locked': '0.00000000'},\n",
       "  {'asset': 'BETH', 'free': '0.00000000', 'locked': '0.00000000'},\n",
       "  {'asset': 'SKL', 'free': '0.00000000', 'locked': '0.00000000'},\n",
       "  {'asset': 'GLM', 'free': '0.00000000', 'locked': '0.00000000'},\n",
       "  {'asset': 'SUSD', 'free': '0.00000000', 'locked': '0.00000000'},\n",
       "  {'asset': 'COVER', 'free': '0.00000000', 'locked': '0.00000000'},\n",
       "  {'asset': 'GHST', 'free': '0.00000000', 'locked': '0.00000000'},\n",
       "  {'asset': 'SUSHIUP', 'free': '0.00000000', 'locked': '0.00000000'},\n",
       "  {'asset': 'SUSHIDOWN', 'free': '0.00000000', 'locked': '0.00000000'},\n",
       "  {'asset': 'XLMUP', 'free': '0.00000000', 'locked': '0.00000000'},\n",
       "  {'asset': 'XLMDOWN', 'free': '0.00000000', 'locked': '0.00000000'},\n",
       "  {'asset': 'DF', 'free': '0.00000000', 'locked': '0.00000000'},\n",
       "  {'asset': 'JUV', 'free': '0.00000000', 'locked': '0.00000000'},\n",
       "  {'asset': 'PSG', 'free': '0.00000000', 'locked': '0.00000000'},\n",
       "  {'asset': 'BVND', 'free': '0.00', 'locked': '0.00'},\n",
       "  {'asset': 'GRT', 'free': '0.00000000', 'locked': '0.00000000'},\n",
       "  {'asset': 'CELO', 'free': '0.00000000', 'locked': '0.00000000'},\n",
       "  {'asset': 'TWT', 'free': '0.00000000', 'locked': '0.00000000'},\n",
       "  {'asset': 'REEF', 'free': '0.00000000', 'locked': '0.00000000'},\n",
       "  {'asset': 'OG', 'free': '0.00000000', 'locked': '0.00000000'},\n",
       "  {'asset': 'ATM', 'free': '0.00000000', 'locked': '0.00000000'},\n",
       "  {'asset': 'ASR', 'free': '0.00000000', 'locked': '0.00000000'},\n",
       "  {'asset': '1INCH', 'free': '0.00000000', 'locked': '0.00000000'},\n",
       "  {'asset': 'RIF', 'free': '0.00000000', 'locked': '0.00000000'},\n",
       "  {'asset': 'BTCST', 'free': '0.00000000', 'locked': '0.00000000'},\n",
       "  {'asset': 'TRU', 'free': '0.00000000', 'locked': '0.00000000'},\n",
       "  {'asset': 'DEXE', 'free': '0.00000000', 'locked': '0.00000000'},\n",
       "  {'asset': 'CKB', 'free': '0.00000000', 'locked': '0.00000000'},\n",
       "  {'asset': 'FIRO', 'free': '0.00000000', 'locked': '0.00000000'},\n",
       "  {'asset': 'LIT', 'free': '0.00000000', 'locked': '0.00000000'},\n",
       "  {'asset': 'PROS', 'free': '0.00000000', 'locked': '0.00000000'},\n",
       "  {'asset': 'VAI', 'free': '0.00000000', 'locked': '0.00000000'},\n",
       "  {'asset': 'SFP', 'free': '0.00000000', 'locked': '0.00000000'},\n",
       "  {'asset': 'FXS', 'free': '0.00000000', 'locked': '0.00000000'},\n",
       "  {'asset': 'DODO', 'free': '0.00000000', 'locked': '0.00000000'},\n",
       "  {'asset': 'AUCTION', 'free': '0.00000000', 'locked': '0.00000000'},\n",
       "  {'asset': 'UFT', 'free': '0.00000000', 'locked': '0.00000000'},\n",
       "  {'asset': 'ACM', 'free': '0.00000000', 'locked': '0.00000000'},\n",
       "  {'asset': 'PHA', 'free': '0.00000000', 'locked': '0.00000000'},\n",
       "  {'asset': 'TVK', 'free': '0.00000000', 'locked': '0.00000000'},\n",
       "  {'asset': 'BADGER', 'free': '0.00000000', 'locked': '0.00000000'},\n",
       "  {'asset': 'FIS', 'free': '0.00000000', 'locked': '0.00000000'},\n",
       "  {'asset': 'QI', 'free': '0.00000000', 'locked': '0.00000000'},\n",
       "  {'asset': 'OM', 'free': '0.00000000', 'locked': '0.00000000'},\n",
       "  {'asset': 'POND', 'free': '0.00000000', 'locked': '0.00000000'},\n",
       "  {'asset': 'ALICE', 'free': '0.00000000', 'locked': '0.00000000'},\n",
       "  {'asset': 'DEGO', 'free': '0.00000000', 'locked': '0.00000000'},\n",
       "  {'asset': 'BIFI', 'free': '0.00000000', 'locked': '0.00000000'},\n",
       "  {'asset': 'LINA', 'free': '0.00000000', 'locked': '0.00000000'},\n",
       "  {'asset': 'PERP', 'free': '0.00000000', 'locked': '0.00000000'},\n",
       "  {'asset': 'RAMP', 'free': '0.00000000', 'locked': '0.00000000'},\n",
       "  {'asset': 'SUPER', 'free': '0.00000000', 'locked': '0.00000000'},\n",
       "  {'asset': 'CFX', 'free': '0.00000000', 'locked': '0.00000000'},\n",
       "  {'asset': 'TKO', 'free': '0.00000000', 'locked': '0.00000000'},\n",
       "  {'asset': 'AUTO', 'free': '0.00000000', 'locked': '0.00000000'},\n",
       "  {'asset': 'EPS', 'free': '0.00000000', 'locked': '0.00000000'},\n",
       "  {'asset': 'PUNDIX', 'free': '0.00000000', 'locked': '0.00000000'},\n",
       "  {'asset': 'TLM', 'free': '0.00000000', 'locked': '0.00000000'},\n",
       "  {'asset': '1INCHUP', 'free': '0.00000000', 'locked': '0.00000000'},\n",
       "  {'asset': '1INCHDOWN', 'free': '0.00000000', 'locked': '0.00000000'},\n",
       "  {'asset': 'MIR', 'free': '0.00000000', 'locked': '0.00000000'},\n",
       "  {'asset': 'BAR', 'free': '0.00000000', 'locked': '0.00000000'},\n",
       "  {'asset': 'FORTH', 'free': '0.00000000', 'locked': '0.00000000'},\n",
       "  {'asset': 'EZ', 'free': '0.00000000', 'locked': '0.00000000'},\n",
       "  {'asset': 'AR', 'free': '0.00000000', 'locked': '0.00000000'},\n",
       "  {'asset': 'ICP', 'free': '0.00000000', 'locked': '0.00000000'},\n",
       "  {'asset': 'SHIB', 'free': '0.00', 'locked': '0.00'},\n",
       "  {'asset': 'GYEN', 'free': '0.00000000', 'locked': '0.00000000'},\n",
       "  {'asset': 'POLS', 'free': '0.00000000', 'locked': '0.00000000'},\n",
       "  {'asset': 'MASK', 'free': '0.00000000', 'locked': '0.00000000'},\n",
       "  {'asset': 'LPT', 'free': '0.00000000', 'locked': '0.00000000'},\n",
       "  {'asset': 'AGIX', 'free': '0.00000000', 'locked': '0.00000000'},\n",
       "  {'asset': 'ATA', 'free': '0.00000000', 'locked': '0.00000000'},\n",
       "  {'asset': 'NU', 'free': '0.00000000', 'locked': '0.00000000'},\n",
       "  {'asset': 'GTC', 'free': '0.00000000', 'locked': '0.00000000'},\n",
       "  {'asset': 'KLAY', 'free': '0.00000000', 'locked': '0.00000000'},\n",
       "  {'asset': 'TORN', 'free': '0.00000000', 'locked': '0.00000000'},\n",
       "  {'asset': 'KEEP', 'free': '0.00000000', 'locked': '0.00000000'},\n",
       "  {'asset': 'ERN', 'free': '0.00000000', 'locked': '0.00000000'},\n",
       "  {'asset': 'BOND', 'free': '0.00000000', 'locked': '0.00000000'},\n",
       "  {'asset': 'MLN', 'free': '0.00000000', 'locked': '0.00000000'},\n",
       "  {'asset': 'C98', 'free': '0.00000000', 'locked': '0.00000000'},\n",
       "  {'asset': 'FLOW', 'free': '0.00000000', 'locked': '0.00000000'},\n",
       "  {'asset': 'QUICK', 'free': '0.00000000', 'locked': '0.00000000'},\n",
       "  {'asset': 'RAY', 'free': '0.00000000', 'locked': '0.00000000'},\n",
       "  {'asset': 'MINA', 'free': '0.00000000', 'locked': '0.00000000'},\n",
       "  {'asset': 'QNT', 'free': '0.00000000', 'locked': '0.00000000'},\n",
       "  {'asset': 'CLV', 'free': '0.00000000', 'locked': '0.00000000'},\n",
       "  {'asset': 'XEC', 'free': '0.00', 'locked': '0.00'},\n",
       "  {'asset': 'ALPACA', 'free': '0.00000000', 'locked': '0.00000000'},\n",
       "  {'asset': 'FARM', 'free': '0.00000000', 'locked': '0.00000000'},\n",
       "  {'asset': 'VGX', 'free': '0.00000000', 'locked': '0.00000000'},\n",
       "  {'asset': 'MBOX', 'free': '0.00006395', 'locked': '0.00000000'},\n",
       "  {'asset': 'WAXP', 'free': '0.00000000', 'locked': '0.00000000'},\n",
       "  {'asset': 'TRIBE', 'free': '0.00000000', 'locked': '0.00000000'},\n",
       "  {'asset': 'GNO', 'free': '0.00000000', 'locked': '0.00000000'},\n",
       "  {'asset': 'USDP', 'free': '0.00000000', 'locked': '0.00000000'},\n",
       "  {'asset': 'DYDX', 'free': '0.00000000', 'locked': '0.00000000'},\n",
       "  {'asset': 'GALA', 'free': '0.00000000', 'locked': '0.00000000'},\n",
       "  {'asset': 'ILV', 'free': '0.00000000', 'locked': '0.00000000'},\n",
       "  {'asset': 'YGG', 'free': '0.00000000', 'locked': '0.00000000'},\n",
       "  {'asset': 'FIDA', 'free': '0.00000000', 'locked': '0.00000000'},\n",
       "  {'asset': 'AGLD', 'free': '0.00000000', 'locked': '0.00000000'},\n",
       "  {'asset': 'BETA', 'free': '0.00000000', 'locked': '0.00000000'},\n",
       "  {'asset': 'RAD', 'free': '0.00000000', 'locked': '0.00000000'},\n",
       "  {'asset': 'RARE', 'free': '0.00000000', 'locked': '0.00000000'},\n",
       "  {'asset': 'SSV', 'free': '0.00000000', 'locked': '0.00000000'},\n",
       "  {'asset': 'LAZIO', 'free': '0.00000000', 'locked': '0.00000000'},\n",
       "  {'asset': 'MOVR', 'free': '0.00000000', 'locked': '0.00000000'},\n",
       "  {'asset': 'CHESS', 'free': '0.00000000', 'locked': '0.00000000'},\n",
       "  {'asset': 'DAR', 'free': '0.00000000', 'locked': '0.00000000'},\n",
       "  {'asset': 'BNX', 'free': '0.00000000', 'locked': '0.00000000'},\n",
       "  {'asset': 'RGT', 'free': '0.00000000', 'locked': '0.00000000'},\n",
       "  {'asset': 'CITY', 'free': '0.00000000', 'locked': '0.00000000'},\n",
       "  {'asset': 'ENS', 'free': '0.00000000', 'locked': '0.00000000'},\n",
       "  {'asset': 'PORTO', 'free': '0.00000000', 'locked': '0.00000000'},\n",
       "  {'asset': 'JASMY', 'free': '0.00000000', 'locked': '0.00000000'},\n",
       "  {'asset': 'AMP', 'free': '0.00000000', 'locked': '0.00000000'},\n",
       "  {'asset': 'PLA', 'free': '0.00000000', 'locked': '0.00000000'},\n",
       "  {'asset': 'PYR', 'free': '0.00000000', 'locked': '0.00000000'},\n",
       "  {'asset': 'SANTOS', 'free': '0.00000000', 'locked': '0.00000000'},\n",
       "  {'asset': 'RNDR', 'free': '0.00000000', 'locked': '0.00000000'},\n",
       "  {'asset': 'ALCX', 'free': '0.00000000', 'locked': '0.00000000'},\n",
       "  {'asset': 'MC', 'free': '0.00000000', 'locked': '0.00000000'},\n",
       "  {'asset': 'ANY', 'free': '0.00000000', 'locked': '0.00000000'},\n",
       "  {'asset': 'VOXEL', 'free': '0.00000000', 'locked': '0.00000000'},\n",
       "  {'asset': 'BICO', 'free': '0.00000000', 'locked': '0.00000000'},\n",
       "  {'asset': 'FLUX', 'free': '0.00000000', 'locked': '0.00000000'},\n",
       "  {'asset': 'UST', 'free': '0.00000000', 'locked': '0.00000000'},\n",
       "  {'asset': 'HIGH', 'free': '0.00000000', 'locked': '0.00000000'},\n",
       "  {'asset': 'OOKI', 'free': '0.00000000', 'locked': '0.00000000'},\n",
       "  {'asset': 'CVX', 'free': '0.00000000', 'locked': '0.00000000'},\n",
       "  {'asset': 'PEOPLE', 'free': '0.00000000', 'locked': '0.00000000'},\n",
       "  {'asset': 'SPELL', 'free': '0.00000000', 'locked': '0.00000000'},\n",
       "  {'asset': 'JOE', 'free': '0.00000000', 'locked': '0.00000000'},\n",
       "  {'asset': 'GLMR', 'free': '0.00000000', 'locked': '0.00000000'},\n",
       "  {'asset': 'ACH', 'free': '0.00000000', 'locked': '0.00000000'},\n",
       "  {'asset': 'IMX', 'free': '0.00000000', 'locked': '0.00000000'}],\n",
       " 'permissions': ['SPOT']}"
      ]
     },
     "execution_count": 8,
     "metadata": {},
     "output_type": "execute_result"
    }
   ],
   "source": [
    "client.get_account()"
   ]
  },
  {
   "cell_type": "code",
   "execution_count": 9,
   "metadata": {},
   "outputs": [],
   "source": [
    "#datastream via websocket - will not be covered in this one "
   ]
  },
  {
   "cell_type": "code",
   "execution_count": 16,
   "metadata": {},
   "outputs": [
    {
     "data": {
      "text/html": [
       "<div>\n",
       "<style scoped>\n",
       "    .dataframe tbody tr th:only-of-type {\n",
       "        vertical-align: middle;\n",
       "    }\n",
       "\n",
       "    .dataframe tbody tr th {\n",
       "        vertical-align: top;\n",
       "    }\n",
       "\n",
       "    .dataframe thead th {\n",
       "        text-align: right;\n",
       "    }\n",
       "</style>\n",
       "<table border=\"1\" class=\"dataframe\">\n",
       "  <thead>\n",
       "    <tr style=\"text-align: right;\">\n",
       "      <th></th>\n",
       "      <th>0</th>\n",
       "      <th>1</th>\n",
       "      <th>2</th>\n",
       "      <th>3</th>\n",
       "      <th>4</th>\n",
       "      <th>5</th>\n",
       "      <th>6</th>\n",
       "      <th>7</th>\n",
       "      <th>8</th>\n",
       "      <th>9</th>\n",
       "      <th>10</th>\n",
       "      <th>11</th>\n",
       "    </tr>\n",
       "  </thead>\n",
       "  <tbody>\n",
       "    <tr>\n",
       "      <th>0</th>\n",
       "      <td>1642047180000</td>\n",
       "      <td>43602.16000000</td>\n",
       "      <td>43618.19000000</td>\n",
       "      <td>43591.03000000</td>\n",
       "      <td>43606.01000000</td>\n",
       "      <td>34.90512000</td>\n",
       "      <td>1642047239999</td>\n",
       "      <td>1521831.62938860</td>\n",
       "      <td>1413</td>\n",
       "      <td>21.88745000</td>\n",
       "      <td>954268.44398680</td>\n",
       "      <td>0</td>\n",
       "    </tr>\n",
       "    <tr>\n",
       "      <th>1</th>\n",
       "      <td>1642047240000</td>\n",
       "      <td>43606.01000000</td>\n",
       "      <td>43622.95000000</td>\n",
       "      <td>43604.01000000</td>\n",
       "      <td>43618.98000000</td>\n",
       "      <td>20.40597000</td>\n",
       "      <td>1642047299999</td>\n",
       "      <td>889987.40686660</td>\n",
       "      <td>983</td>\n",
       "      <td>14.89468000</td>\n",
       "      <td>649618.92185670</td>\n",
       "      <td>0</td>\n",
       "    </tr>\n",
       "    <tr>\n",
       "      <th>2</th>\n",
       "      <td>1642047300000</td>\n",
       "      <td>43618.98000000</td>\n",
       "      <td>43640.00000000</td>\n",
       "      <td>43608.01000000</td>\n",
       "      <td>43632.05000000</td>\n",
       "      <td>20.62212000</td>\n",
       "      <td>1642047359999</td>\n",
       "      <td>899624.81131380</td>\n",
       "      <td>1145</td>\n",
       "      <td>12.04291000</td>\n",
       "      <td>525371.09155120</td>\n",
       "      <td>0</td>\n",
       "    </tr>\n",
       "    <tr>\n",
       "      <th>3</th>\n",
       "      <td>1642047360000</td>\n",
       "      <td>43632.04000000</td>\n",
       "      <td>43666.94000000</td>\n",
       "      <td>43632.04000000</td>\n",
       "      <td>43666.72000000</td>\n",
       "      <td>26.92851000</td>\n",
       "      <td>1642047419999</td>\n",
       "      <td>1175494.82251720</td>\n",
       "      <td>1311</td>\n",
       "      <td>18.45168000</td>\n",
       "      <td>805462.78469330</td>\n",
       "      <td>0</td>\n",
       "    </tr>\n",
       "    <tr>\n",
       "      <th>4</th>\n",
       "      <td>1642047420000</td>\n",
       "      <td>43666.72000000</td>\n",
       "      <td>43673.20000000</td>\n",
       "      <td>43647.42000000</td>\n",
       "      <td>43665.42000000</td>\n",
       "      <td>22.80274000</td>\n",
       "      <td>1642047479999</td>\n",
       "      <td>995711.01968320</td>\n",
       "      <td>764</td>\n",
       "      <td>14.27977000</td>\n",
       "      <td>623547.81789170</td>\n",
       "      <td>0</td>\n",
       "    </tr>\n",
       "    <tr>\n",
       "      <th>5</th>\n",
       "      <td>1642047480000</td>\n",
       "      <td>43665.42000000</td>\n",
       "      <td>43675.93000000</td>\n",
       "      <td>43657.59000000</td>\n",
       "      <td>43657.59000000</td>\n",
       "      <td>17.30609000</td>\n",
       "      <td>1642047539999</td>\n",
       "      <td>755663.63418430</td>\n",
       "      <td>684</td>\n",
       "      <td>9.39879000</td>\n",
       "      <td>410389.87095260</td>\n",
       "      <td>0</td>\n",
       "    </tr>\n",
       "    <tr>\n",
       "      <th>6</th>\n",
       "      <td>1642047540000</td>\n",
       "      <td>43657.59000000</td>\n",
       "      <td>43661.85000000</td>\n",
       "      <td>43648.66000000</td>\n",
       "      <td>43648.67000000</td>\n",
       "      <td>8.04243000</td>\n",
       "      <td>1642047599999</td>\n",
       "      <td>351089.19036550</td>\n",
       "      <td>553</td>\n",
       "      <td>3.64707000</td>\n",
       "      <td>159210.88253720</td>\n",
       "      <td>0</td>\n",
       "    </tr>\n",
       "    <tr>\n",
       "      <th>7</th>\n",
       "      <td>1642047600000</td>\n",
       "      <td>43648.67000000</td>\n",
       "      <td>43669.69000000</td>\n",
       "      <td>43647.58000000</td>\n",
       "      <td>43662.99000000</td>\n",
       "      <td>11.26249000</td>\n",
       "      <td>1642047659999</td>\n",
       "      <td>491707.56977160</td>\n",
       "      <td>644</td>\n",
       "      <td>7.19082000</td>\n",
       "      <td>313938.95893670</td>\n",
       "      <td>0</td>\n",
       "    </tr>\n",
       "    <tr>\n",
       "      <th>8</th>\n",
       "      <td>1642047660000</td>\n",
       "      <td>43663.00000000</td>\n",
       "      <td>43667.87000000</td>\n",
       "      <td>43652.85000000</td>\n",
       "      <td>43658.99000000</td>\n",
       "      <td>8.34190000</td>\n",
       "      <td>1642047719999</td>\n",
       "      <td>364215.58987040</td>\n",
       "      <td>596</td>\n",
       "      <td>4.46255000</td>\n",
       "      <td>194841.55571610</td>\n",
       "      <td>0</td>\n",
       "    </tr>\n",
       "    <tr>\n",
       "      <th>9</th>\n",
       "      <td>1642047720000</td>\n",
       "      <td>43659.11000000</td>\n",
       "      <td>43664.75000000</td>\n",
       "      <td>43653.42000000</td>\n",
       "      <td>43657.59000000</td>\n",
       "      <td>8.44357000</td>\n",
       "      <td>1642047779999</td>\n",
       "      <td>368626.42213860</td>\n",
       "      <td>560</td>\n",
       "      <td>4.10972000</td>\n",
       "      <td>179418.67611760</td>\n",
       "      <td>0</td>\n",
       "    </tr>\n",
       "    <tr>\n",
       "      <th>10</th>\n",
       "      <td>1642047780000</td>\n",
       "      <td>43657.58000000</td>\n",
       "      <td>43664.95000000</td>\n",
       "      <td>43652.43000000</td>\n",
       "      <td>43655.26000000</td>\n",
       "      <td>5.98537000</td>\n",
       "      <td>1642047839999</td>\n",
       "      <td>261303.66201650</td>\n",
       "      <td>432</td>\n",
       "      <td>2.44682000</td>\n",
       "      <td>106819.96490580</td>\n",
       "      <td>0</td>\n",
       "    </tr>\n",
       "    <tr>\n",
       "      <th>11</th>\n",
       "      <td>1642047840000</td>\n",
       "      <td>43655.25000000</td>\n",
       "      <td>43675.80000000</td>\n",
       "      <td>43652.81000000</td>\n",
       "      <td>43656.92000000</td>\n",
       "      <td>14.41159000</td>\n",
       "      <td>1642047899999</td>\n",
       "      <td>629205.76516780</td>\n",
       "      <td>634</td>\n",
       "      <td>10.23241000</td>\n",
       "      <td>446746.74242310</td>\n",
       "      <td>0</td>\n",
       "    </tr>\n",
       "    <tr>\n",
       "      <th>12</th>\n",
       "      <td>1642047900000</td>\n",
       "      <td>43656.92000000</td>\n",
       "      <td>43668.00000000</td>\n",
       "      <td>43636.46000000</td>\n",
       "      <td>43659.79000000</td>\n",
       "      <td>24.96978000</td>\n",
       "      <td>1642047959999</td>\n",
       "      <td>1089927.75851270</td>\n",
       "      <td>705</td>\n",
       "      <td>7.57673000</td>\n",
       "      <td>330707.50856910</td>\n",
       "      <td>0</td>\n",
       "    </tr>\n",
       "    <tr>\n",
       "      <th>13</th>\n",
       "      <td>1642047960000</td>\n",
       "      <td>43659.78000000</td>\n",
       "      <td>43674.58000000</td>\n",
       "      <td>43632.98000000</td>\n",
       "      <td>43646.02000000</td>\n",
       "      <td>22.07561000</td>\n",
       "      <td>1642048019999</td>\n",
       "      <td>963608.79258140</td>\n",
       "      <td>668</td>\n",
       "      <td>13.22076000</td>\n",
       "      <td>577048.33873760</td>\n",
       "      <td>0</td>\n",
       "    </tr>\n",
       "    <tr>\n",
       "      <th>14</th>\n",
       "      <td>1642048020000</td>\n",
       "      <td>43646.02000000</td>\n",
       "      <td>43646.02000000</td>\n",
       "      <td>43631.59000000</td>\n",
       "      <td>43635.10000000</td>\n",
       "      <td>9.30167000</td>\n",
       "      <td>1642048079999</td>\n",
       "      <td>405890.71659730</td>\n",
       "      <td>589</td>\n",
       "      <td>4.63514000</td>\n",
       "      <td>202260.05726310</td>\n",
       "      <td>0</td>\n",
       "    </tr>\n",
       "    <tr>\n",
       "      <th>15</th>\n",
       "      <td>1642048080000</td>\n",
       "      <td>43635.09000000</td>\n",
       "      <td>43669.45000000</td>\n",
       "      <td>43632.04000000</td>\n",
       "      <td>43654.72000000</td>\n",
       "      <td>30.74330000</td>\n",
       "      <td>1642048139999</td>\n",
       "      <td>1341859.60269190</td>\n",
       "      <td>812</td>\n",
       "      <td>24.95388000</td>\n",
       "      <td>1089154.13514660</td>\n",
       "      <td>0</td>\n",
       "    </tr>\n",
       "    <tr>\n",
       "      <th>16</th>\n",
       "      <td>1642048140000</td>\n",
       "      <td>43654.72000000</td>\n",
       "      <td>43665.80000000</td>\n",
       "      <td>43642.28000000</td>\n",
       "      <td>43661.49000000</td>\n",
       "      <td>14.18889000</td>\n",
       "      <td>1642048199999</td>\n",
       "      <td>619350.35134360</td>\n",
       "      <td>585</td>\n",
       "      <td>9.84644000</td>\n",
       "      <td>429801.54136700</td>\n",
       "      <td>0</td>\n",
       "    </tr>\n",
       "    <tr>\n",
       "      <th>17</th>\n",
       "      <td>1642048200000</td>\n",
       "      <td>43661.49000000</td>\n",
       "      <td>43665.80000000</td>\n",
       "      <td>43638.01000000</td>\n",
       "      <td>43644.71000000</td>\n",
       "      <td>8.48180000</td>\n",
       "      <td>1642048259999</td>\n",
       "      <td>370189.90796750</td>\n",
       "      <td>478</td>\n",
       "      <td>3.56191000</td>\n",
       "      <td>155453.69699160</td>\n",
       "      <td>0</td>\n",
       "    </tr>\n",
       "    <tr>\n",
       "      <th>18</th>\n",
       "      <td>1642048260000</td>\n",
       "      <td>43641.47000000</td>\n",
       "      <td>43652.75000000</td>\n",
       "      <td>43636.00000000</td>\n",
       "      <td>43647.45000000</td>\n",
       "      <td>11.99114000</td>\n",
       "      <td>1642048319999</td>\n",
       "      <td>523304.03528890</td>\n",
       "      <td>630</td>\n",
       "      <td>6.50857000</td>\n",
       "      <td>284033.75912590</td>\n",
       "      <td>0</td>\n",
       "    </tr>\n",
       "    <tr>\n",
       "      <th>19</th>\n",
       "      <td>1642048320000</td>\n",
       "      <td>43647.45000000</td>\n",
       "      <td>43647.46000000</td>\n",
       "      <td>43633.04000000</td>\n",
       "      <td>43643.13000000</td>\n",
       "      <td>6.33109000</td>\n",
       "      <td>1642048379999</td>\n",
       "      <td>276289.76366730</td>\n",
       "      <td>483</td>\n",
       "      <td>3.48563000</td>\n",
       "      <td>152114.31697020</td>\n",
       "      <td>0</td>\n",
       "    </tr>\n",
       "    <tr>\n",
       "      <th>20</th>\n",
       "      <td>1642048380000</td>\n",
       "      <td>43643.13000000</td>\n",
       "      <td>43649.99000000</td>\n",
       "      <td>43639.04000000</td>\n",
       "      <td>43646.31000000</td>\n",
       "      <td>7.75064000</td>\n",
       "      <td>1642048439999</td>\n",
       "      <td>338272.69600410</td>\n",
       "      <td>457</td>\n",
       "      <td>3.59857000</td>\n",
       "      <td>157054.03848100</td>\n",
       "      <td>0</td>\n",
       "    </tr>\n",
       "    <tr>\n",
       "      <th>21</th>\n",
       "      <td>1642048440000</td>\n",
       "      <td>43646.30000000</td>\n",
       "      <td>43646.31000000</td>\n",
       "      <td>43632.62000000</td>\n",
       "      <td>43640.69000000</td>\n",
       "      <td>5.87598000</td>\n",
       "      <td>1642048499999</td>\n",
       "      <td>256415.07731310</td>\n",
       "      <td>447</td>\n",
       "      <td>3.91668000</td>\n",
       "      <td>170914.88036920</td>\n",
       "      <td>0</td>\n",
       "    </tr>\n",
       "    <tr>\n",
       "      <th>22</th>\n",
       "      <td>1642048500000</td>\n",
       "      <td>43640.70000000</td>\n",
       "      <td>43653.39000000</td>\n",
       "      <td>43632.48000000</td>\n",
       "      <td>43650.04000000</td>\n",
       "      <td>8.73800000</td>\n",
       "      <td>1642048559999</td>\n",
       "      <td>381308.88489900</td>\n",
       "      <td>523</td>\n",
       "      <td>5.18938000</td>\n",
       "      <td>226454.28522040</td>\n",
       "      <td>0</td>\n",
       "    </tr>\n",
       "    <tr>\n",
       "      <th>23</th>\n",
       "      <td>1642048560000</td>\n",
       "      <td>43650.04000000</td>\n",
       "      <td>43653.23000000</td>\n",
       "      <td>43641.02000000</td>\n",
       "      <td>43653.22000000</td>\n",
       "      <td>5.37676000</td>\n",
       "      <td>1642048619999</td>\n",
       "      <td>234673.24970780</td>\n",
       "      <td>479</td>\n",
       "      <td>3.31745000</td>\n",
       "      <td>144790.17739690</td>\n",
       "      <td>0</td>\n",
       "    </tr>\n",
       "    <tr>\n",
       "      <th>24</th>\n",
       "      <td>1642048620000</td>\n",
       "      <td>43653.23000000</td>\n",
       "      <td>43675.95000000</td>\n",
       "      <td>43649.99000000</td>\n",
       "      <td>43670.00000000</td>\n",
       "      <td>6.40995000</td>\n",
       "      <td>1642048679999</td>\n",
       "      <td>279891.75073150</td>\n",
       "      <td>399</td>\n",
       "      <td>4.67545000</td>\n",
       "      <td>204154.90376930</td>\n",
       "      <td>0</td>\n",
       "    </tr>\n",
       "    <tr>\n",
       "      <th>25</th>\n",
       "      <td>1642048680000</td>\n",
       "      <td>43670.01000000</td>\n",
       "      <td>43680.79000000</td>\n",
       "      <td>43666.00000000</td>\n",
       "      <td>43674.53000000</td>\n",
       "      <td>8.05432000</td>\n",
       "      <td>1642048739999</td>\n",
       "      <td>351749.45298500</td>\n",
       "      <td>477</td>\n",
       "      <td>5.04780000</td>\n",
       "      <td>220446.53596810</td>\n",
       "      <td>0</td>\n",
       "    </tr>\n",
       "    <tr>\n",
       "      <th>26</th>\n",
       "      <td>1642048740000</td>\n",
       "      <td>43674.53000000</td>\n",
       "      <td>43700.00000000</td>\n",
       "      <td>43674.53000000</td>\n",
       "      <td>43692.65000000</td>\n",
       "      <td>9.53891000</td>\n",
       "      <td>1642048799999</td>\n",
       "      <td>416774.76948690</td>\n",
       "      <td>597</td>\n",
       "      <td>4.50746000</td>\n",
       "      <td>196937.98354460</td>\n",
       "      <td>0</td>\n",
       "    </tr>\n",
       "    <tr>\n",
       "      <th>27</th>\n",
       "      <td>1642048800000</td>\n",
       "      <td>43692.64000000</td>\n",
       "      <td>43714.59000000</td>\n",
       "      <td>43691.01000000</td>\n",
       "      <td>43699.00000000</td>\n",
       "      <td>10.23458000</td>\n",
       "      <td>1642048859999</td>\n",
       "      <td>447242.21826420</td>\n",
       "      <td>615</td>\n",
       "      <td>6.80900000</td>\n",
       "      <td>297543.38726900</td>\n",
       "      <td>0</td>\n",
       "    </tr>\n",
       "    <tr>\n",
       "      <th>28</th>\n",
       "      <td>1642048860000</td>\n",
       "      <td>43699.01000000</td>\n",
       "      <td>43705.77000000</td>\n",
       "      <td>43694.04000000</td>\n",
       "      <td>43696.07000000</td>\n",
       "      <td>9.31804000</td>\n",
       "      <td>1642048919999</td>\n",
       "      <td>407170.47188880</td>\n",
       "      <td>416</td>\n",
       "      <td>4.92526000</td>\n",
       "      <td>215225.19555120</td>\n",
       "      <td>0</td>\n",
       "    </tr>\n",
       "    <tr>\n",
       "      <th>29</th>\n",
       "      <td>1642048920000</td>\n",
       "      <td>43696.08000000</td>\n",
       "      <td>43696.08000000</td>\n",
       "      <td>43682.66000000</td>\n",
       "      <td>43684.07000000</td>\n",
       "      <td>6.04475000</td>\n",
       "      <td>1642048979999</td>\n",
       "      <td>264104.75632980</td>\n",
       "      <td>167</td>\n",
       "      <td>1.36489000</td>\n",
       "      <td>59634.48327370</td>\n",
       "      <td>0</td>\n",
       "    </tr>\n",
       "  </tbody>\n",
       "</table>\n",
       "</div>"
      ],
      "text/plain": [
       "               0               1               2               3   \\\n",
       "0   1642047180000  43602.16000000  43618.19000000  43591.03000000   \n",
       "1   1642047240000  43606.01000000  43622.95000000  43604.01000000   \n",
       "2   1642047300000  43618.98000000  43640.00000000  43608.01000000   \n",
       "3   1642047360000  43632.04000000  43666.94000000  43632.04000000   \n",
       "4   1642047420000  43666.72000000  43673.20000000  43647.42000000   \n",
       "5   1642047480000  43665.42000000  43675.93000000  43657.59000000   \n",
       "6   1642047540000  43657.59000000  43661.85000000  43648.66000000   \n",
       "7   1642047600000  43648.67000000  43669.69000000  43647.58000000   \n",
       "8   1642047660000  43663.00000000  43667.87000000  43652.85000000   \n",
       "9   1642047720000  43659.11000000  43664.75000000  43653.42000000   \n",
       "10  1642047780000  43657.58000000  43664.95000000  43652.43000000   \n",
       "11  1642047840000  43655.25000000  43675.80000000  43652.81000000   \n",
       "12  1642047900000  43656.92000000  43668.00000000  43636.46000000   \n",
       "13  1642047960000  43659.78000000  43674.58000000  43632.98000000   \n",
       "14  1642048020000  43646.02000000  43646.02000000  43631.59000000   \n",
       "15  1642048080000  43635.09000000  43669.45000000  43632.04000000   \n",
       "16  1642048140000  43654.72000000  43665.80000000  43642.28000000   \n",
       "17  1642048200000  43661.49000000  43665.80000000  43638.01000000   \n",
       "18  1642048260000  43641.47000000  43652.75000000  43636.00000000   \n",
       "19  1642048320000  43647.45000000  43647.46000000  43633.04000000   \n",
       "20  1642048380000  43643.13000000  43649.99000000  43639.04000000   \n",
       "21  1642048440000  43646.30000000  43646.31000000  43632.62000000   \n",
       "22  1642048500000  43640.70000000  43653.39000000  43632.48000000   \n",
       "23  1642048560000  43650.04000000  43653.23000000  43641.02000000   \n",
       "24  1642048620000  43653.23000000  43675.95000000  43649.99000000   \n",
       "25  1642048680000  43670.01000000  43680.79000000  43666.00000000   \n",
       "26  1642048740000  43674.53000000  43700.00000000  43674.53000000   \n",
       "27  1642048800000  43692.64000000  43714.59000000  43691.01000000   \n",
       "28  1642048860000  43699.01000000  43705.77000000  43694.04000000   \n",
       "29  1642048920000  43696.08000000  43696.08000000  43682.66000000   \n",
       "\n",
       "                4            5              6                 7     8   \\\n",
       "0   43606.01000000  34.90512000  1642047239999  1521831.62938860  1413   \n",
       "1   43618.98000000  20.40597000  1642047299999   889987.40686660   983   \n",
       "2   43632.05000000  20.62212000  1642047359999   899624.81131380  1145   \n",
       "3   43666.72000000  26.92851000  1642047419999  1175494.82251720  1311   \n",
       "4   43665.42000000  22.80274000  1642047479999   995711.01968320   764   \n",
       "5   43657.59000000  17.30609000  1642047539999   755663.63418430   684   \n",
       "6   43648.67000000   8.04243000  1642047599999   351089.19036550   553   \n",
       "7   43662.99000000  11.26249000  1642047659999   491707.56977160   644   \n",
       "8   43658.99000000   8.34190000  1642047719999   364215.58987040   596   \n",
       "9   43657.59000000   8.44357000  1642047779999   368626.42213860   560   \n",
       "10  43655.26000000   5.98537000  1642047839999   261303.66201650   432   \n",
       "11  43656.92000000  14.41159000  1642047899999   629205.76516780   634   \n",
       "12  43659.79000000  24.96978000  1642047959999  1089927.75851270   705   \n",
       "13  43646.02000000  22.07561000  1642048019999   963608.79258140   668   \n",
       "14  43635.10000000   9.30167000  1642048079999   405890.71659730   589   \n",
       "15  43654.72000000  30.74330000  1642048139999  1341859.60269190   812   \n",
       "16  43661.49000000  14.18889000  1642048199999   619350.35134360   585   \n",
       "17  43644.71000000   8.48180000  1642048259999   370189.90796750   478   \n",
       "18  43647.45000000  11.99114000  1642048319999   523304.03528890   630   \n",
       "19  43643.13000000   6.33109000  1642048379999   276289.76366730   483   \n",
       "20  43646.31000000   7.75064000  1642048439999   338272.69600410   457   \n",
       "21  43640.69000000   5.87598000  1642048499999   256415.07731310   447   \n",
       "22  43650.04000000   8.73800000  1642048559999   381308.88489900   523   \n",
       "23  43653.22000000   5.37676000  1642048619999   234673.24970780   479   \n",
       "24  43670.00000000   6.40995000  1642048679999   279891.75073150   399   \n",
       "25  43674.53000000   8.05432000  1642048739999   351749.45298500   477   \n",
       "26  43692.65000000   9.53891000  1642048799999   416774.76948690   597   \n",
       "27  43699.00000000  10.23458000  1642048859999   447242.21826420   615   \n",
       "28  43696.07000000   9.31804000  1642048919999   407170.47188880   416   \n",
       "29  43684.07000000   6.04475000  1642048979999   264104.75632980   167   \n",
       "\n",
       "             9                 10 11  \n",
       "0   21.88745000   954268.44398680  0  \n",
       "1   14.89468000   649618.92185670  0  \n",
       "2   12.04291000   525371.09155120  0  \n",
       "3   18.45168000   805462.78469330  0  \n",
       "4   14.27977000   623547.81789170  0  \n",
       "5    9.39879000   410389.87095260  0  \n",
       "6    3.64707000   159210.88253720  0  \n",
       "7    7.19082000   313938.95893670  0  \n",
       "8    4.46255000   194841.55571610  0  \n",
       "9    4.10972000   179418.67611760  0  \n",
       "10   2.44682000   106819.96490580  0  \n",
       "11  10.23241000   446746.74242310  0  \n",
       "12   7.57673000   330707.50856910  0  \n",
       "13  13.22076000   577048.33873760  0  \n",
       "14   4.63514000   202260.05726310  0  \n",
       "15  24.95388000  1089154.13514660  0  \n",
       "16   9.84644000   429801.54136700  0  \n",
       "17   3.56191000   155453.69699160  0  \n",
       "18   6.50857000   284033.75912590  0  \n",
       "19   3.48563000   152114.31697020  0  \n",
       "20   3.59857000   157054.03848100  0  \n",
       "21   3.91668000   170914.88036920  0  \n",
       "22   5.18938000   226454.28522040  0  \n",
       "23   3.31745000   144790.17739690  0  \n",
       "24   4.67545000   204154.90376930  0  \n",
       "25   5.04780000   220446.53596810  0  \n",
       "26   4.50746000   196937.98354460  0  \n",
       "27   6.80900000   297543.38726900  0  \n",
       "28   4.92526000   215225.19555120  0  \n",
       "29   1.36489000    59634.48327370  0  "
      ]
     },
     "execution_count": 16,
     "metadata": {},
     "output_type": "execute_result"
    }
   ],
   "source": [
    "pd.DataFrame(client.get_historical_klines('BTCUSDT','1m', '30 min ago UTC'))"
   ]
  },
  {
   "cell_type": "code",
   "execution_count": 26,
   "metadata": {
    "scrolled": true
   },
   "outputs": [
    {
     "data": {
      "text/html": [
       "<div>\n",
       "<style scoped>\n",
       "    .dataframe tbody tr th:only-of-type {\n",
       "        vertical-align: middle;\n",
       "    }\n",
       "\n",
       "    .dataframe tbody tr th {\n",
       "        vertical-align: top;\n",
       "    }\n",
       "\n",
       "    .dataframe thead th {\n",
       "        text-align: right;\n",
       "    }\n",
       "</style>\n",
       "<table border=\"1\" class=\"dataframe\">\n",
       "  <thead>\n",
       "    <tr style=\"text-align: right;\">\n",
       "      <th></th>\n",
       "      <th>0</th>\n",
       "      <th>1</th>\n",
       "      <th>2</th>\n",
       "      <th>3</th>\n",
       "      <th>4</th>\n",
       "      <th>5</th>\n",
       "      <th>6</th>\n",
       "      <th>7</th>\n",
       "      <th>8</th>\n",
       "      <th>9</th>\n",
       "      <th>10</th>\n",
       "      <th>11</th>\n",
       "    </tr>\n",
       "  </thead>\n",
       "  <tbody>\n",
       "    <tr>\n",
       "      <th>0</th>\n",
       "      <td>1642048620000</td>\n",
       "      <td>43653.23000000</td>\n",
       "      <td>43675.95000000</td>\n",
       "      <td>43649.99000000</td>\n",
       "      <td>43670.00000000</td>\n",
       "      <td>6.40995000</td>\n",
       "      <td>1642048679999</td>\n",
       "      <td>279891.75073150</td>\n",
       "      <td>399</td>\n",
       "      <td>4.67545000</td>\n",
       "      <td>204154.90376930</td>\n",
       "      <td>0</td>\n",
       "    </tr>\n",
       "    <tr>\n",
       "      <th>1</th>\n",
       "      <td>1642048680000</td>\n",
       "      <td>43670.01000000</td>\n",
       "      <td>43680.79000000</td>\n",
       "      <td>43666.00000000</td>\n",
       "      <td>43674.53000000</td>\n",
       "      <td>8.05432000</td>\n",
       "      <td>1642048739999</td>\n",
       "      <td>351749.45298500</td>\n",
       "      <td>477</td>\n",
       "      <td>5.04780000</td>\n",
       "      <td>220446.53596810</td>\n",
       "      <td>0</td>\n",
       "    </tr>\n",
       "    <tr>\n",
       "      <th>2</th>\n",
       "      <td>1642048740000</td>\n",
       "      <td>43674.53000000</td>\n",
       "      <td>43700.00000000</td>\n",
       "      <td>43674.53000000</td>\n",
       "      <td>43692.65000000</td>\n",
       "      <td>9.53891000</td>\n",
       "      <td>1642048799999</td>\n",
       "      <td>416774.76948690</td>\n",
       "      <td>597</td>\n",
       "      <td>4.50746000</td>\n",
       "      <td>196937.98354460</td>\n",
       "      <td>0</td>\n",
       "    </tr>\n",
       "    <tr>\n",
       "      <th>3</th>\n",
       "      <td>1642048800000</td>\n",
       "      <td>43692.64000000</td>\n",
       "      <td>43714.59000000</td>\n",
       "      <td>43691.01000000</td>\n",
       "      <td>43699.00000000</td>\n",
       "      <td>10.23458000</td>\n",
       "      <td>1642048859999</td>\n",
       "      <td>447242.21826420</td>\n",
       "      <td>615</td>\n",
       "      <td>6.80900000</td>\n",
       "      <td>297543.38726900</td>\n",
       "      <td>0</td>\n",
       "    </tr>\n",
       "    <tr>\n",
       "      <th>4</th>\n",
       "      <td>1642048860000</td>\n",
       "      <td>43699.01000000</td>\n",
       "      <td>43705.77000000</td>\n",
       "      <td>43694.04000000</td>\n",
       "      <td>43696.07000000</td>\n",
       "      <td>9.31804000</td>\n",
       "      <td>1642048919999</td>\n",
       "      <td>407170.47188880</td>\n",
       "      <td>416</td>\n",
       "      <td>4.92526000</td>\n",
       "      <td>215225.19555120</td>\n",
       "      <td>0</td>\n",
       "    </tr>\n",
       "    <tr>\n",
       "      <th>5</th>\n",
       "      <td>1642048920000</td>\n",
       "      <td>43696.08000000</td>\n",
       "      <td>43696.08000000</td>\n",
       "      <td>43682.66000000</td>\n",
       "      <td>43691.01000000</td>\n",
       "      <td>8.99043000</td>\n",
       "      <td>1642048979999</td>\n",
       "      <td>392799.65126770</td>\n",
       "      <td>408</td>\n",
       "      <td>2.64839000</td>\n",
       "      <td>115710.83481410</td>\n",
       "      <td>0</td>\n",
       "    </tr>\n",
       "    <tr>\n",
       "      <th>6</th>\n",
       "      <td>1642048980000</td>\n",
       "      <td>43691.00000000</td>\n",
       "      <td>43697.21000000</td>\n",
       "      <td>43691.00000000</td>\n",
       "      <td>43691.03000000</td>\n",
       "      <td>4.25746000</td>\n",
       "      <td>1642049039999</td>\n",
       "      <td>186020.20443210</td>\n",
       "      <td>330</td>\n",
       "      <td>2.46987000</td>\n",
       "      <td>107913.99793160</td>\n",
       "      <td>0</td>\n",
       "    </tr>\n",
       "    <tr>\n",
       "      <th>7</th>\n",
       "      <td>1642049040000</td>\n",
       "      <td>43691.02000000</td>\n",
       "      <td>43719.99000000</td>\n",
       "      <td>43691.02000000</td>\n",
       "      <td>43718.69000000</td>\n",
       "      <td>23.94102000</td>\n",
       "      <td>1642049099999</td>\n",
       "      <td>1046317.03283900</td>\n",
       "      <td>618</td>\n",
       "      <td>18.86834000</td>\n",
       "      <td>824604.62801780</td>\n",
       "      <td>0</td>\n",
       "    </tr>\n",
       "    <tr>\n",
       "      <th>8</th>\n",
       "      <td>1642049100000</td>\n",
       "      <td>43718.69000000</td>\n",
       "      <td>43718.69000000</td>\n",
       "      <td>43700.00000000</td>\n",
       "      <td>43700.02000000</td>\n",
       "      <td>5.77278000</td>\n",
       "      <td>1642049159999</td>\n",
       "      <td>252304.28852090</td>\n",
       "      <td>449</td>\n",
       "      <td>2.16728000</td>\n",
       "      <td>94725.22053750</td>\n",
       "      <td>0</td>\n",
       "    </tr>\n",
       "    <tr>\n",
       "      <th>9</th>\n",
       "      <td>1642049160000</td>\n",
       "      <td>43700.02000000</td>\n",
       "      <td>43700.02000000</td>\n",
       "      <td>43689.56000000</td>\n",
       "      <td>43689.57000000</td>\n",
       "      <td>8.09231000</td>\n",
       "      <td>1642049219999</td>\n",
       "      <td>353579.46639580</td>\n",
       "      <td>431</td>\n",
       "      <td>1.97967000</td>\n",
       "      <td>86500.59282350</td>\n",
       "      <td>0</td>\n",
       "    </tr>\n",
       "    <tr>\n",
       "      <th>10</th>\n",
       "      <td>1642049220000</td>\n",
       "      <td>43689.56000000</td>\n",
       "      <td>43689.57000000</td>\n",
       "      <td>43682.29000000</td>\n",
       "      <td>43682.30000000</td>\n",
       "      <td>3.15208000</td>\n",
       "      <td>1642049279999</td>\n",
       "      <td>137697.38516840</td>\n",
       "      <td>316</td>\n",
       "      <td>1.38914000</td>\n",
       "      <td>60684.88710820</td>\n",
       "      <td>0</td>\n",
       "    </tr>\n",
       "    <tr>\n",
       "      <th>11</th>\n",
       "      <td>1642049280000</td>\n",
       "      <td>43682.29000000</td>\n",
       "      <td>43682.30000000</td>\n",
       "      <td>43675.77000000</td>\n",
       "      <td>43676.18000000</td>\n",
       "      <td>7.44766000</td>\n",
       "      <td>1642049339999</td>\n",
       "      <td>325308.18350230</td>\n",
       "      <td>469</td>\n",
       "      <td>3.31671000</td>\n",
       "      <td>144871.57096930</td>\n",
       "      <td>0</td>\n",
       "    </tr>\n",
       "    <tr>\n",
       "      <th>12</th>\n",
       "      <td>1642049340000</td>\n",
       "      <td>43676.17000000</td>\n",
       "      <td>43676.62000000</td>\n",
       "      <td>43623.20000000</td>\n",
       "      <td>43634.91000000</td>\n",
       "      <td>20.47680000</td>\n",
       "      <td>1642049399999</td>\n",
       "      <td>893776.02674290</td>\n",
       "      <td>555</td>\n",
       "      <td>6.21904000</td>\n",
       "      <td>271369.28301560</td>\n",
       "      <td>0</td>\n",
       "    </tr>\n",
       "    <tr>\n",
       "      <th>13</th>\n",
       "      <td>1642049400000</td>\n",
       "      <td>43634.91000000</td>\n",
       "      <td>43634.91000000</td>\n",
       "      <td>43605.00000000</td>\n",
       "      <td>43609.51000000</td>\n",
       "      <td>13.68090000</td>\n",
       "      <td>1642049459999</td>\n",
       "      <td>596693.50764320</td>\n",
       "      <td>423</td>\n",
       "      <td>6.48471000</td>\n",
       "      <td>282818.56794860</td>\n",
       "      <td>0</td>\n",
       "    </tr>\n",
       "    <tr>\n",
       "      <th>14</th>\n",
       "      <td>1642049460000</td>\n",
       "      <td>43609.51000000</td>\n",
       "      <td>43617.76000000</td>\n",
       "      <td>43608.00000000</td>\n",
       "      <td>43616.82000000</td>\n",
       "      <td>6.12838000</td>\n",
       "      <td>1642049519999</td>\n",
       "      <td>267259.81230570</td>\n",
       "      <td>273</td>\n",
       "      <td>3.20774000</td>\n",
       "      <td>139893.28412800</td>\n",
       "      <td>0</td>\n",
       "    </tr>\n",
       "    <tr>\n",
       "      <th>15</th>\n",
       "      <td>1642049520000</td>\n",
       "      <td>43616.81000000</td>\n",
       "      <td>43616.82000000</td>\n",
       "      <td>43592.90000000</td>\n",
       "      <td>43609.22000000</td>\n",
       "      <td>10.25032000</td>\n",
       "      <td>1642049579999</td>\n",
       "      <td>446938.10767860</td>\n",
       "      <td>419</td>\n",
       "      <td>3.52818000</td>\n",
       "      <td>153823.83125280</td>\n",
       "      <td>0</td>\n",
       "    </tr>\n",
       "    <tr>\n",
       "      <th>16</th>\n",
       "      <td>1642049580000</td>\n",
       "      <td>43609.22000000</td>\n",
       "      <td>43615.97000000</td>\n",
       "      <td>43600.12000000</td>\n",
       "      <td>43611.90000000</td>\n",
       "      <td>7.36613000</td>\n",
       "      <td>1642049639999</td>\n",
       "      <td>321203.38772310</td>\n",
       "      <td>357</td>\n",
       "      <td>5.59081000</td>\n",
       "      <td>243786.55167820</td>\n",
       "      <td>0</td>\n",
       "    </tr>\n",
       "    <tr>\n",
       "      <th>17</th>\n",
       "      <td>1642049640000</td>\n",
       "      <td>43611.90000000</td>\n",
       "      <td>43638.21000000</td>\n",
       "      <td>43603.56000000</td>\n",
       "      <td>43634.54000000</td>\n",
       "      <td>7.36765000</td>\n",
       "      <td>1642049699999</td>\n",
       "      <td>321378.47646470</td>\n",
       "      <td>386</td>\n",
       "      <td>5.19899000</td>\n",
       "      <td>226777.63938670</td>\n",
       "      <td>0</td>\n",
       "    </tr>\n",
       "    <tr>\n",
       "      <th>18</th>\n",
       "      <td>1642049700000</td>\n",
       "      <td>43634.55000000</td>\n",
       "      <td>43640.00000000</td>\n",
       "      <td>43631.18000000</td>\n",
       "      <td>43639.99000000</td>\n",
       "      <td>11.43306000</td>\n",
       "      <td>1642049759999</td>\n",
       "      <td>498896.69137880</td>\n",
       "      <td>308</td>\n",
       "      <td>1.74693000</td>\n",
       "      <td>76226.04467610</td>\n",
       "      <td>0</td>\n",
       "    </tr>\n",
       "    <tr>\n",
       "      <th>19</th>\n",
       "      <td>1642049760000</td>\n",
       "      <td>43640.00000000</td>\n",
       "      <td>43645.31000000</td>\n",
       "      <td>43636.95000000</td>\n",
       "      <td>43640.59000000</td>\n",
       "      <td>6.84718000</td>\n",
       "      <td>1642049819999</td>\n",
       "      <td>298809.70856470</td>\n",
       "      <td>258</td>\n",
       "      <td>5.07590000</td>\n",
       "      <td>221510.40992330</td>\n",
       "      <td>0</td>\n",
       "    </tr>\n",
       "    <tr>\n",
       "      <th>20</th>\n",
       "      <td>1642049820000</td>\n",
       "      <td>43640.58000000</td>\n",
       "      <td>43653.85000000</td>\n",
       "      <td>43628.23000000</td>\n",
       "      <td>43628.24000000</td>\n",
       "      <td>10.85600000</td>\n",
       "      <td>1642049879999</td>\n",
       "      <td>473808.43758210</td>\n",
       "      <td>318</td>\n",
       "      <td>4.85337000</td>\n",
       "      <td>211833.56441160</td>\n",
       "      <td>0</td>\n",
       "    </tr>\n",
       "    <tr>\n",
       "      <th>21</th>\n",
       "      <td>1642049880000</td>\n",
       "      <td>43628.23000000</td>\n",
       "      <td>43636.63000000</td>\n",
       "      <td>43622.52000000</td>\n",
       "      <td>43622.52000000</td>\n",
       "      <td>6.74293000</td>\n",
       "      <td>1642049939999</td>\n",
       "      <td>294158.94395140</td>\n",
       "      <td>320</td>\n",
       "      <td>3.43857000</td>\n",
       "      <td>150005.46812870</td>\n",
       "      <td>0</td>\n",
       "    </tr>\n",
       "    <tr>\n",
       "      <th>22</th>\n",
       "      <td>1642049940000</td>\n",
       "      <td>43622.52000000</td>\n",
       "      <td>43623.02000000</td>\n",
       "      <td>43615.01000000</td>\n",
       "      <td>43623.02000000</td>\n",
       "      <td>4.20436000</td>\n",
       "      <td>1642049999999</td>\n",
       "      <td>183398.18872530</td>\n",
       "      <td>311</td>\n",
       "      <td>2.04872000</td>\n",
       "      <td>89368.64839660</td>\n",
       "      <td>0</td>\n",
       "    </tr>\n",
       "    <tr>\n",
       "      <th>23</th>\n",
       "      <td>1642050000000</td>\n",
       "      <td>43623.01000000</td>\n",
       "      <td>43623.02000000</td>\n",
       "      <td>43611.99000000</td>\n",
       "      <td>43613.43000000</td>\n",
       "      <td>9.69579000</td>\n",
       "      <td>1642050059999</td>\n",
       "      <td>422879.56298190</td>\n",
       "      <td>396</td>\n",
       "      <td>2.13019000</td>\n",
       "      <td>92907.27812490</td>\n",
       "      <td>0</td>\n",
       "    </tr>\n",
       "    <tr>\n",
       "      <th>24</th>\n",
       "      <td>1642050060000</td>\n",
       "      <td>43613.44000000</td>\n",
       "      <td>43639.11000000</td>\n",
       "      <td>43613.43000000</td>\n",
       "      <td>43634.62000000</td>\n",
       "      <td>8.58331000</td>\n",
       "      <td>1642050119999</td>\n",
       "      <td>374437.92698070</td>\n",
       "      <td>476</td>\n",
       "      <td>5.65116000</td>\n",
       "      <td>246522.11028660</td>\n",
       "      <td>0</td>\n",
       "    </tr>\n",
       "    <tr>\n",
       "      <th>25</th>\n",
       "      <td>1642050120000</td>\n",
       "      <td>43634.63000000</td>\n",
       "      <td>43653.08000000</td>\n",
       "      <td>43634.62000000</td>\n",
       "      <td>43650.00000000</td>\n",
       "      <td>9.88487000</td>\n",
       "      <td>1642050179999</td>\n",
       "      <td>431449.40131660</td>\n",
       "      <td>421</td>\n",
       "      <td>3.37139000</td>\n",
       "      <td>147138.89437270</td>\n",
       "      <td>0</td>\n",
       "    </tr>\n",
       "    <tr>\n",
       "      <th>26</th>\n",
       "      <td>1642050180000</td>\n",
       "      <td>43650.01000000</td>\n",
       "      <td>43657.00000000</td>\n",
       "      <td>43630.41000000</td>\n",
       "      <td>43639.19000000</td>\n",
       "      <td>18.82921000</td>\n",
       "      <td>1642050239999</td>\n",
       "      <td>821854.21975250</td>\n",
       "      <td>594</td>\n",
       "      <td>10.44658000</td>\n",
       "      <td>455994.20929490</td>\n",
       "      <td>0</td>\n",
       "    </tr>\n",
       "    <tr>\n",
       "      <th>27</th>\n",
       "      <td>1642050240000</td>\n",
       "      <td>43639.18000000</td>\n",
       "      <td>43650.68000000</td>\n",
       "      <td>43639.18000000</td>\n",
       "      <td>43648.42000000</td>\n",
       "      <td>8.23119000</td>\n",
       "      <td>1642050299999</td>\n",
       "      <td>359252.85085970</td>\n",
       "      <td>501</td>\n",
       "      <td>5.40660000</td>\n",
       "      <td>235973.40069330</td>\n",
       "      <td>0</td>\n",
       "    </tr>\n",
       "    <tr>\n",
       "      <th>28</th>\n",
       "      <td>1642050300000</td>\n",
       "      <td>43648.42000000</td>\n",
       "      <td>43648.43000000</td>\n",
       "      <td>43612.02000000</td>\n",
       "      <td>43618.21000000</td>\n",
       "      <td>13.83318000</td>\n",
       "      <td>1642050359999</td>\n",
       "      <td>603561.73616760</td>\n",
       "      <td>589</td>\n",
       "      <td>5.05421000</td>\n",
       "      <td>220505.65402440</td>\n",
       "      <td>0</td>\n",
       "    </tr>\n",
       "    <tr>\n",
       "      <th>29</th>\n",
       "      <td>1642050360000</td>\n",
       "      <td>43618.21000000</td>\n",
       "      <td>43625.84000000</td>\n",
       "      <td>43618.21000000</td>\n",
       "      <td>43622.05000000</td>\n",
       "      <td>0.75492000</td>\n",
       "      <td>1642050419999</td>\n",
       "      <td>32930.92640830</td>\n",
       "      <td>68</td>\n",
       "      <td>0.60394000</td>\n",
       "      <td>26344.49345680</td>\n",
       "      <td>0</td>\n",
       "    </tr>\n",
       "  </tbody>\n",
       "</table>\n",
       "</div>"
      ],
      "text/plain": [
       "               0               1               2               3   \\\n",
       "0   1642048620000  43653.23000000  43675.95000000  43649.99000000   \n",
       "1   1642048680000  43670.01000000  43680.79000000  43666.00000000   \n",
       "2   1642048740000  43674.53000000  43700.00000000  43674.53000000   \n",
       "3   1642048800000  43692.64000000  43714.59000000  43691.01000000   \n",
       "4   1642048860000  43699.01000000  43705.77000000  43694.04000000   \n",
       "5   1642048920000  43696.08000000  43696.08000000  43682.66000000   \n",
       "6   1642048980000  43691.00000000  43697.21000000  43691.00000000   \n",
       "7   1642049040000  43691.02000000  43719.99000000  43691.02000000   \n",
       "8   1642049100000  43718.69000000  43718.69000000  43700.00000000   \n",
       "9   1642049160000  43700.02000000  43700.02000000  43689.56000000   \n",
       "10  1642049220000  43689.56000000  43689.57000000  43682.29000000   \n",
       "11  1642049280000  43682.29000000  43682.30000000  43675.77000000   \n",
       "12  1642049340000  43676.17000000  43676.62000000  43623.20000000   \n",
       "13  1642049400000  43634.91000000  43634.91000000  43605.00000000   \n",
       "14  1642049460000  43609.51000000  43617.76000000  43608.00000000   \n",
       "15  1642049520000  43616.81000000  43616.82000000  43592.90000000   \n",
       "16  1642049580000  43609.22000000  43615.97000000  43600.12000000   \n",
       "17  1642049640000  43611.90000000  43638.21000000  43603.56000000   \n",
       "18  1642049700000  43634.55000000  43640.00000000  43631.18000000   \n",
       "19  1642049760000  43640.00000000  43645.31000000  43636.95000000   \n",
       "20  1642049820000  43640.58000000  43653.85000000  43628.23000000   \n",
       "21  1642049880000  43628.23000000  43636.63000000  43622.52000000   \n",
       "22  1642049940000  43622.52000000  43623.02000000  43615.01000000   \n",
       "23  1642050000000  43623.01000000  43623.02000000  43611.99000000   \n",
       "24  1642050060000  43613.44000000  43639.11000000  43613.43000000   \n",
       "25  1642050120000  43634.63000000  43653.08000000  43634.62000000   \n",
       "26  1642050180000  43650.01000000  43657.00000000  43630.41000000   \n",
       "27  1642050240000  43639.18000000  43650.68000000  43639.18000000   \n",
       "28  1642050300000  43648.42000000  43648.43000000  43612.02000000   \n",
       "29  1642050360000  43618.21000000  43625.84000000  43618.21000000   \n",
       "\n",
       "                4            5              6                 7    8   \\\n",
       "0   43670.00000000   6.40995000  1642048679999   279891.75073150  399   \n",
       "1   43674.53000000   8.05432000  1642048739999   351749.45298500  477   \n",
       "2   43692.65000000   9.53891000  1642048799999   416774.76948690  597   \n",
       "3   43699.00000000  10.23458000  1642048859999   447242.21826420  615   \n",
       "4   43696.07000000   9.31804000  1642048919999   407170.47188880  416   \n",
       "5   43691.01000000   8.99043000  1642048979999   392799.65126770  408   \n",
       "6   43691.03000000   4.25746000  1642049039999   186020.20443210  330   \n",
       "7   43718.69000000  23.94102000  1642049099999  1046317.03283900  618   \n",
       "8   43700.02000000   5.77278000  1642049159999   252304.28852090  449   \n",
       "9   43689.57000000   8.09231000  1642049219999   353579.46639580  431   \n",
       "10  43682.30000000   3.15208000  1642049279999   137697.38516840  316   \n",
       "11  43676.18000000   7.44766000  1642049339999   325308.18350230  469   \n",
       "12  43634.91000000  20.47680000  1642049399999   893776.02674290  555   \n",
       "13  43609.51000000  13.68090000  1642049459999   596693.50764320  423   \n",
       "14  43616.82000000   6.12838000  1642049519999   267259.81230570  273   \n",
       "15  43609.22000000  10.25032000  1642049579999   446938.10767860  419   \n",
       "16  43611.90000000   7.36613000  1642049639999   321203.38772310  357   \n",
       "17  43634.54000000   7.36765000  1642049699999   321378.47646470  386   \n",
       "18  43639.99000000  11.43306000  1642049759999   498896.69137880  308   \n",
       "19  43640.59000000   6.84718000  1642049819999   298809.70856470  258   \n",
       "20  43628.24000000  10.85600000  1642049879999   473808.43758210  318   \n",
       "21  43622.52000000   6.74293000  1642049939999   294158.94395140  320   \n",
       "22  43623.02000000   4.20436000  1642049999999   183398.18872530  311   \n",
       "23  43613.43000000   9.69579000  1642050059999   422879.56298190  396   \n",
       "24  43634.62000000   8.58331000  1642050119999   374437.92698070  476   \n",
       "25  43650.00000000   9.88487000  1642050179999   431449.40131660  421   \n",
       "26  43639.19000000  18.82921000  1642050239999   821854.21975250  594   \n",
       "27  43648.42000000   8.23119000  1642050299999   359252.85085970  501   \n",
       "28  43618.21000000  13.83318000  1642050359999   603561.73616760  589   \n",
       "29  43622.05000000   0.75492000  1642050419999    32930.92640830   68   \n",
       "\n",
       "             9                10 11  \n",
       "0    4.67545000  204154.90376930  0  \n",
       "1    5.04780000  220446.53596810  0  \n",
       "2    4.50746000  196937.98354460  0  \n",
       "3    6.80900000  297543.38726900  0  \n",
       "4    4.92526000  215225.19555120  0  \n",
       "5    2.64839000  115710.83481410  0  \n",
       "6    2.46987000  107913.99793160  0  \n",
       "7   18.86834000  824604.62801780  0  \n",
       "8    2.16728000   94725.22053750  0  \n",
       "9    1.97967000   86500.59282350  0  \n",
       "10   1.38914000   60684.88710820  0  \n",
       "11   3.31671000  144871.57096930  0  \n",
       "12   6.21904000  271369.28301560  0  \n",
       "13   6.48471000  282818.56794860  0  \n",
       "14   3.20774000  139893.28412800  0  \n",
       "15   3.52818000  153823.83125280  0  \n",
       "16   5.59081000  243786.55167820  0  \n",
       "17   5.19899000  226777.63938670  0  \n",
       "18   1.74693000   76226.04467610  0  \n",
       "19   5.07590000  221510.40992330  0  \n",
       "20   4.85337000  211833.56441160  0  \n",
       "21   3.43857000  150005.46812870  0  \n",
       "22   2.04872000   89368.64839660  0  \n",
       "23   2.13019000   92907.27812490  0  \n",
       "24   5.65116000  246522.11028660  0  \n",
       "25   3.37139000  147138.89437270  0  \n",
       "26  10.44658000  455994.20929490  0  \n",
       "27   5.40660000  235973.40069330  0  \n",
       "28   5.05421000  220505.65402440  0  \n",
       "29   0.60394000   26344.49345680  0  "
      ]
     },
     "execution_count": 26,
     "metadata": {},
     "output_type": "execute_result"
    }
   ],
   "source": [
    "pd.DataFrame(client.get_historical_klines('BTCUSDT','1m', '30 min ago UTC'))"
   ]
  },
  {
   "cell_type": "code",
   "execution_count": 17,
   "metadata": {},
   "outputs": [],
   "source": [
    "def getminutedata(symbol, interval, lookback):\n",
    "    frame = pd.DataFrame(client.get_historical_klines(symbol, interval, lookback+' min ago UTC'))\n",
    "    frame = frame.iloc[:,:6]\n",
    "    frame.columns = ['Time', 'Open', 'High', 'Low', 'Close', 'Volume']\n",
    "    frame = frame.set_index('Time')\n",
    "    frame.index = pd.to_datetime(frame.index, unit = 'ms')\n",
    "    frame = frame.astype(float)\n",
    "    return frame\n",
    "    \n",
    "    "
   ]
  },
  {
   "cell_type": "code",
   "execution_count": 24,
   "metadata": {},
   "outputs": [],
   "source": [
    "test = getminutedata('BTCUSDT', '1m', '30')"
   ]
  },
  {
   "cell_type": "code",
   "execution_count": 25,
   "metadata": {},
   "outputs": [
    {
     "data": {
      "text/plain": [
       "<AxesSubplot:xlabel='Time'>"
      ]
     },
     "execution_count": 25,
     "metadata": {},
     "output_type": "execute_result"
    },
    {
     "data": {
      "image/png": "[encoded data removed]",
      "text/plain": [
       "<Figure size 432x288 with 1 Axes>"
      ]
     },
     "metadata": {
      "needs_background": "light"
     },
     "output_type": "display_data"
    }
   ],
   "source": [
    "test.Open.plot()"
   ]
  },
  {
   "cell_type": "code",
   "execution_count": null,
   "metadata": {},
   "outputs": [],
   "source": [
    "#buy if the asset fell by more than 0.2% within the last 30 min\n",
    "#sell if the asset rises by more than 0.15% or falls futher by 0.15%"
   ]
  },
  {
   "cell_type": "code",
   "execution_count": 27,
   "metadata": {},
   "outputs": [],
   "source": [
    "def strategytest(symbol,qty,entried=False):\n",
    "    df = getminutedata(symbol,'1m','30m')\n",
    "    #cumulative return over the last 30 min\n",
    "    cumulret = (df.Open.pct_change() +1).cumprod() - 1\n",
    "    if not entried:\n",
    "        #not bought the asset\n",
    "        if cumulret[-1] < -0.002:\n",
    "            order = client.create_order(symbol=symbol, side = 'BUY', type=\"MARKET\",\n",
    "                                       quantity = qty)\n",
    "            print(order)\n",
    "            entried = True\n",
    "        else:\n",
    "            print('No Trade Executed')\n",
    "    if entried: \n",
    "        while True:\n",
    "            df = getminutedata(symbol, '1m', '30m')\n",
    "            sincebuy = df.loc[df.index > pd.to_datetime(order['transactTime'], unit='ms')]\n",
    "            if len(sincebuy) > 0:\n",
    "                sincebuyret = (sincebuy.pct_change() +1).cumprod() - 1\n",
    "                if sincebuyret[-1] > 0.0015 or sincebuyret[-1] < -0.0015:\n",
    "                    order = client.create_order(symbol=symbol, side = 'SELL', type=\"MARKET\",\n",
    "                                       quantity = qty)\n",
    "                    print(order)\n",
    "                    break"
   ]
  },
  {
   "cell_type": "code",
   "execution_count": 57,
   "metadata": {},
   "outputs": [
    {
     "data": {
      "text/plain": [
       "Time\n",
       "2022-01-13 05:43:00         NaN\n",
       "2022-01-13 05:44:00    0.000000\n",
       "2022-01-13 05:45:00   -0.000072\n",
       "2022-01-13 05:46:00   -0.000154\n",
       "2022-01-13 05:47:00   -0.000082\n",
       "2022-01-13 05:48:00    0.000437\n",
       "2022-01-13 05:49:00    0.000330\n",
       "2022-01-13 05:50:00    0.000544\n",
       "2022-01-13 05:51:00    0.000899\n",
       "2022-01-13 05:52:00    0.000852\n",
       "2022-01-13 05:53:00    0.000899\n",
       "2022-01-13 05:54:00    0.001192\n",
       "2022-01-13 05:55:00    0.001225\n",
       "2022-01-13 05:56:00    0.001206\n",
       "2022-01-13 05:57:00    0.000854\n",
       "2022-01-13 05:58:00    0.000534\n",
       "2022-01-13 05:59:00    0.000454\n",
       "2022-01-13 06:00:00    0.000274\n",
       "2022-01-13 06:01:00    0.000169\n",
       "2022-01-13 06:02:00    0.000419\n",
       "2022-01-13 06:03:00    0.000739\n",
       "2022-01-13 06:04:00    0.001036\n",
       "2022-01-13 06:05:00    0.001143\n",
       "2022-01-13 06:06:00    0.001590\n",
       "2022-01-13 06:07:00    0.001835\n",
       "2022-01-13 06:08:00    0.002091\n",
       "2022-01-13 06:09:00    0.001224\n",
       "2022-01-13 06:10:00    0.000940\n",
       "2022-01-13 06:11:00    0.000960\n",
       "2022-01-13 06:12:00    0.001477\n",
       "Name: Open, dtype: float64"
      ]
     },
     "execution_count": 57,
     "metadata": {},
     "output_type": "execute_result"
    }
   ],
   "source": [
    "df = getminutedata('BTCUSDT','1m','30m')\n",
    "cumulret = (df.Open.pct_change() +1).cumprod() - 1\n",
    "cumulret"
   ]
  },
  {
   "cell_type": "code",
   "execution_count": 58,
   "metadata": {},
   "outputs": [
    {
     "data": {
      "application/vnd.plotly.v1+json": {
       "config": {
        "plotlyServerURL": "https://plot.ly"
       },
       "data": [
        {
         "hovertemplate": "x=%{x}<br>y=%{y}<extra></extra>",
         "legendgroup": "",
         "line": {
          "color": "#636efa",
          "dash": "solid"
         },
         "mode": "lines",
         "name": "",
         "orientation": "v",
         "showlegend": false,
         "type": "scatter",
         "x": [
          "2022-01-13T05:43:00",
          "2022-01-13T05:44:00",
          "2022-01-13T05:45:00",
          "2022-01-13T05:46:00",
          "2022-01-13T05:47:00",
          "2022-01-13T05:48:00",
          "2022-01-13T05:49:00",
          "2022-01-13T05:50:00",
          "2022-01-13T05:51:00",
          "2022-01-13T05:52:00",
          "2022-01-13T05:53:00",
          "2022-01-13T05:54:00",
          "2022-01-13T05:55:00",
          "2022-01-13T05:56:00",
          "2022-01-13T05:57:00",
          "2022-01-13T05:58:00",
          "2022-01-13T05:59:00",
          "2022-01-13T06:00:00",
          "2022-01-13T06:01:00",
          "2022-01-13T06:02:00",
          "2022-01-13T06:03:00",
          "2022-01-13T06:04:00",
          "2022-01-13T06:05:00",
          "2022-01-13T06:06:00",
          "2022-01-13T06:07:00",
          "2022-01-13T06:08:00",
          "2022-01-13T06:09:00",
          "2022-01-13T06:10:00",
          "2022-01-13T06:11:00",
          "2022-01-13T06:12:00"
         ],
         "xaxis": "x",
         "y": [
          null,
          0,
          -0.00723928328346668,
          -0.015417840663833893,
          -0.008178557380367213,
          0.043664790943931386,
          0.03296622988893105,
          0.0544091702475491,
          0.08991831293543306,
          0.08524485157521688,
          0.08994122205974175,
          0.11919617380971026,
          0.12249508771102757,
          0.12059363039291782,
          0.08540521544544433,
          0.053378259653413807,
          0.045382975267571624,
          0.02737640355616744,
          0.016906933744320618,
          0.04187787924740949,
          0.07390483503944001,
          0.10359506015136244,
          0.11431653033067146,
          0.15903514099309124,
          0.1835479040098731,
          0.20913739586945201,
          0.12244926946241019,
          0.0939503188148505,
          0.0959892308788568,
          0.14771803358160085
         ],
         "yaxis": "y"
        }
       ],
       "layout": {
        "legend": {
         "tracegroupgap": 0
        },
        "margin": {
         "t": 60
        },
        "template": {
         "data": {
          "bar": [
           {
            "error_x": {
             "color": "#2a3f5f"
            },
            "error_y": {
             "color": "#2a3f5f"
            },
            "marker": {
             "line": {
              "color": "#E5ECF6",
              "width": 0.5
             }
            },
            "type": "bar"
           }
          ],
          "barpolar": [
           {
            "marker": {
             "line": {
              "color": "#E5ECF6",
              "width": 0.5
             }
            },
            "type": "barpolar"
           }
          ],
          "carpet": [
           {
            "aaxis": {
             "endlinecolor": "#2a3f5f",
             "gridcolor": "white",
             "linecolor": "white",
             "minorgridcolor": "white",
             "startlinecolor": "#2a3f5f"
            },
            "baxis": {
             "endlinecolor": "#2a3f5f",
             "gridcolor": "white",
             "linecolor": "white",
             "minorgridcolor": "white",
             "startlinecolor": "#2a3f5f"
            },
            "type": "carpet"
           }
          ],
          "choropleth": [
           {
            "colorbar": {
             "outlinewidth": 0,
             "ticks": ""
            },
            "type": "choropleth"
           }
          ],
          "contour": [
           {
            "colorbar": {
             "outlinewidth": 0,
             "ticks": ""
            },
            "colorscale": [
             [
              0,
              "#0d0887"
             ],
             [
              0.1111111111111111,
              "#46039f"
             ],
             [
              0.2222222222222222,
              "#7201a8"
             ],
             [
              0.3333333333333333,
              "#9c179e"
             ],
             [
              0.4444444444444444,
              "#bd3786"
             ],
             [
              0.5555555555555556,
              "#d8576b"
             ],
             [
              0.6666666666666666,
              "#ed7953"
             ],
             [
              0.7777777777777778,
              "#fb9f3a"
             ],
             [
              0.8888888888888888,
              "#fdca26"
             ],
             [
              1,
              "#f0f921"
             ]
            ],
            "type": "contour"
           }
          ],
          "contourcarpet": [
           {
            "colorbar": {
             "outlinewidth": 0,
             "ticks": ""
            },
            "type": "contourcarpet"
           }
          ],
          "heatmap": [
           {
            "colorbar": {
             "outlinewidth": 0,
             "ticks": ""
            },
            "colorscale": [
             [
              0,
              "#0d0887"
             ],
             [
              0.1111111111111111,
              "#46039f"
             ],
             [
              0.2222222222222222,
              "#7201a8"
             ],
             [
              0.3333333333333333,
              "#9c179e"
             ],
             [
              0.4444444444444444,
              "#bd3786"
             ],
             [
              0.5555555555555556,
              "#d8576b"
             ],
             [
              0.6666666666666666,
              "#ed7953"
             ],
             [
              0.7777777777777778,
              "#fb9f3a"
             ],
             [
              0.8888888888888888,
              "#fdca26"
             ],
             [
              1,
              "#f0f921"
             ]
            ],
            "type": "heatmap"
           }
          ],
          "heatmapgl": [
           {
            "colorbar": {
             "outlinewidth": 0,
             "ticks": ""
            },
            "colorscale": [
             [
              0,
              "#0d0887"
             ],
             [
              0.1111111111111111,
              "#46039f"
             ],
             [
              0.2222222222222222,
              "#7201a8"
             ],
             [
              0.3333333333333333,
              "#9c179e"
             ],
             [
              0.4444444444444444,
              "#bd3786"
             ],
             [
              0.5555555555555556,
              "#d8576b"
             ],
             [
              0.6666666666666666,
              "#ed7953"
             ],
             [
              0.7777777777777778,
              "#fb9f3a"
             ],
             [
              0.8888888888888888,
              "#fdca26"
             ],
             [
              1,
              "#f0f921"
             ]
            ],
            "type": "heatmapgl"
           }
          ],
          "histogram": [
           {
            "marker": {
             "colorbar": {
              "outlinewidth": 0,
              "ticks": ""
             }
            },
            "type": "histogram"
           }
          ],
          "histogram2d": [
           {
            "colorbar": {
             "outlinewidth": 0,
             "ticks": ""
            },
            "colorscale": [
             [
              0,
              "#0d0887"
             ],
             [
              0.1111111111111111,
              "#46039f"
             ],
             [
              0.2222222222222222,
              "#7201a8"
             ],
             [
              0.3333333333333333,
              "#9c179e"
             ],
             [
              0.4444444444444444,
              "#bd3786"
             ],
             [
              0.5555555555555556,
              "#d8576b"
             ],
             [
              0.6666666666666666,
              "#ed7953"
             ],
             [
              0.7777777777777778,
              "#fb9f3a"
             ],
             [
              0.8888888888888888,
              "#fdca26"
             ],
             [
              1,
              "#f0f921"
             ]
            ],
            "type": "histogram2d"
           }
          ],
          "histogram2dcontour": [
           {
            "colorbar": {
             "outlinewidth": 0,
             "ticks": ""
            },
            "colorscale": [
             [
              0,
              "#0d0887"
             ],
             [
              0.1111111111111111,
              "#46039f"
             ],
             [
              0.2222222222222222,
              "#7201a8"
             ],
             [
              0.3333333333333333,
              "#9c179e"
             ],
             [
              0.4444444444444444,
              "#bd3786"
             ],
             [
              0.5555555555555556,
              "#d8576b"
             ],
             [
              0.6666666666666666,
              "#ed7953"
             ],
             [
              0.7777777777777778,
              "#fb9f3a"
             ],
             [
              0.8888888888888888,
              "#fdca26"
             ],
             [
              1,
              "#f0f921"
             ]
            ],
            "type": "histogram2dcontour"
           }
          ],
          "mesh3d": [
           {
            "colorbar": {
             "outlinewidth": 0,
             "ticks": ""
            },
            "type": "mesh3d"
           }
          ],
          "parcoords": [
           {
            "line": {
             "colorbar": {
              "outlinewidth": 0,
              "ticks": ""
             }
            },
            "type": "parcoords"
           }
          ],
          "pie": [
           {
            "automargin": true,
            "type": "pie"
           }
          ],
          "scatter": [
           {
            "marker": {
             "colorbar": {
              "outlinewidth": 0,
              "ticks": ""
             }
            },
            "type": "scatter"
           }
          ],
          "scatter3d": [
           {
            "line": {
             "colorbar": {
              "outlinewidth": 0,
              "ticks": ""
             }
            },
            "marker": {
             "colorbar": {
              "outlinewidth": 0,
              "ticks": ""
             }
            },
            "type": "scatter3d"
           }
          ],
          "scattercarpet": [
           {
            "marker": {
             "colorbar": {
              "outlinewidth": 0,
              "ticks": ""
             }
            },
            "type": "scattercarpet"
           }
          ],
          "scattergeo": [
           {
            "marker": {
             "colorbar": {
              "outlinewidth": 0,
              "ticks": ""
             }
            },
            "type": "scattergeo"
           }
          ],
          "scattergl": [
           {
            "marker": {
             "colorbar": {
              "outlinewidth": 0,
              "ticks": ""
             }
            },
            "type": "scattergl"
           }
          ],
          "scattermapbox": [
           {
            "marker": {
             "colorbar": {
              "outlinewidth": 0,
              "ticks": ""
             }
            },
            "type": "scattermapbox"
           }
          ],
          "scatterpolar": [
           {
            "marker": {
             "colorbar": {
              "outlinewidth": 0,
              "ticks": ""
             }
            },
            "type": "scatterpolar"
           }
          ],
          "scatterpolargl": [
           {
            "marker": {
             "colorbar": {
              "outlinewidth": 0,
              "ticks": ""
             }
            },
            "type": "scatterpolargl"
           }
          ],
          "scatterternary": [
           {
            "marker": {
             "colorbar": {
              "outlinewidth": 0,
              "ticks": ""
             }
            },
            "type": "scatterternary"
           }
          ],
          "surface": [
           {
            "colorbar": {
             "outlinewidth": 0,
             "ticks": ""
            },
            "colorscale": [
             [
              0,
              "#0d0887"
             ],
             [
              0.1111111111111111,
              "#46039f"
             ],
             [
              0.2222222222222222,
              "#7201a8"
             ],
             [
              0.3333333333333333,
              "#9c179e"
             ],
             [
              0.4444444444444444,
              "#bd3786"
             ],
             [
              0.5555555555555556,
              "#d8576b"
             ],
             [
              0.6666666666666666,
              "#ed7953"
             ],
             [
              0.7777777777777778,
              "#fb9f3a"
             ],
             [
              0.8888888888888888,
              "#fdca26"
             ],
             [
              1,
              "#f0f921"
             ]
            ],
            "type": "surface"
           }
          ],
          "table": [
           {
            "cells": {
             "fill": {
              "color": "#EBF0F8"
             },
             "line": {
              "color": "white"
             }
            },
            "header": {
             "fill": {
              "color": "#C8D4E3"
             },
             "line": {
              "color": "white"
             }
            },
            "type": "table"
           }
          ]
         },
         "layout": {
          "annotationdefaults": {
           "arrowcolor": "#2a3f5f",
           "arrowhead": 0,
           "arrowwidth": 1
          },
          "autotypenumbers": "strict",
          "coloraxis": {
           "colorbar": {
            "outlinewidth": 0,
            "ticks": ""
           }
          },
          "colorscale": {
           "diverging": [
            [
             0,
             "#8e0152"
            ],
            [
             0.1,
             "#c51b7d"
            ],
            [
             0.2,
             "#de77ae"
            ],
            [
             0.3,
             "#f1b6da"
            ],
            [
             0.4,
             "#fde0ef"
            ],
            [
             0.5,
             "#f7f7f7"
            ],
            [
             0.6,
             "#e6f5d0"
            ],
            [
             0.7,
             "#b8e186"
            ],
            [
             0.8,
             "#7fbc41"
            ],
            [
             0.9,
             "#4d9221"
            ],
            [
             1,
             "#276419"
            ]
           ],
           "sequential": [
            [
             0,
             "#0d0887"
            ],
            [
             0.1111111111111111,
             "#46039f"
            ],
            [
             0.2222222222222222,
             "#7201a8"
            ],
            [
             0.3333333333333333,
             "#9c179e"
            ],
            [
             0.4444444444444444,
             "#bd3786"
            ],
            [
             0.5555555555555556,
             "#d8576b"
            ],
            [
             0.6666666666666666,
             "#ed7953"
            ],
            [
             0.7777777777777778,
             "#fb9f3a"
            ],
            [
             0.8888888888888888,
             "#fdca26"
            ],
            [
             1,
             "#f0f921"
            ]
           ],
           "sequentialminus": [
            [
             0,
             "#0d0887"
            ],
            [
             0.1111111111111111,
             "#46039f"
            ],
            [
             0.2222222222222222,
             "#7201a8"
            ],
            [
             0.3333333333333333,
             "#9c179e"
            ],
            [
             0.4444444444444444,
             "#bd3786"
            ],
            [
             0.5555555555555556,
             "#d8576b"
            ],
            [
             0.6666666666666666,
             "#ed7953"
            ],
            [
             0.7777777777777778,
             "#fb9f3a"
            ],
            [
             0.8888888888888888,
             "#fdca26"
            ],
            [
             1,
             "#f0f921"
            ]
           ]
          },
          "colorway": [
           "#636efa",
           "#EF553B",
           "#00cc96",
           "#ab63fa",
           "#FFA15A",
           "#19d3f3",
           "#FF6692",
           "#B6E880",
           "#FF97FF",
           "#FECB52"
          ],
          "font": {
           "color": "#2a3f5f"
          },
          "geo": {
           "bgcolor": "white",
           "lakecolor": "white",
           "landcolor": "#E5ECF6",
           "showlakes": true,
           "showland": true,
           "subunitcolor": "white"
          },
          "hoverlabel": {
           "align": "left"
          },
          "hovermode": "closest",
          "mapbox": {
           "style": "light"
          },
          "paper_bgcolor": "white",
          "plot_bgcolor": "#E5ECF6",
          "polar": {
           "angularaxis": {
            "gridcolor": "white",
            "linecolor": "white",
            "ticks": ""
           },
           "bgcolor": "#E5ECF6",
           "radialaxis": {
            "gridcolor": "white",
            "linecolor": "white",
            "ticks": ""
           }
          },
          "scene": {
           "xaxis": {
            "backgroundcolor": "#E5ECF6",
            "gridcolor": "white",
            "gridwidth": 2,
            "linecolor": "white",
            "showbackground": true,
            "ticks": "",
            "zerolinecolor": "white"
           },
           "yaxis": {
            "backgroundcolor": "#E5ECF6",
            "gridcolor": "white",
            "gridwidth": 2,
            "linecolor": "white",
            "showbackground": true,
            "ticks": "",
            "zerolinecolor": "white"
           },
           "zaxis": {
            "backgroundcolor": "#E5ECF6",
            "gridcolor": "white",
            "gridwidth": 2,
            "linecolor": "white",
            "showbackground": true,
            "ticks": "",
            "zerolinecolor": "white"
           }
          },
          "shapedefaults": {
           "line": {
            "color": "#2a3f5f"
           }
          },
          "ternary": {
           "aaxis": {
            "gridcolor": "white",
            "linecolor": "white",
            "ticks": ""
           },
           "baxis": {
            "gridcolor": "white",
            "linecolor": "white",
            "ticks": ""
           },
           "bgcolor": "#E5ECF6",
           "caxis": {
            "gridcolor": "white",
            "linecolor": "white",
            "ticks": ""
           }
          },
          "title": {
           "x": 0.05
          },
          "xaxis": {
           "automargin": true,
           "gridcolor": "white",
           "linecolor": "white",
           "ticks": "",
           "title": {
            "standoff": 15
           },
           "zerolinecolor": "white",
           "zerolinewidth": 2
          },
          "yaxis": {
           "automargin": true,
           "gridcolor": "white",
           "linecolor": "white",
           "ticks": "",
           "title": {
            "standoff": 15
           },
           "zerolinecolor": "white",
           "zerolinewidth": 2
          }
         }
        },
        "xaxis": {
         "anchor": "y",
         "domain": [
          0,
          1
         ],
         "title": {
          "text": "x"
         }
        },
        "yaxis": {
         "anchor": "x",
         "domain": [
          0,
          1
         ],
         "title": {
          "text": "y"
         }
        }
       }
      },
      "text/html": [
       "<div>                            <div id=\"81c12be0-3d81-4c8d-9595-cf751b5bc592\" class=\"plotly-graph-div\" style=\"height:525px; width:100%;\"></div>            <script type=\"text/javascript\">                require([\"plotly\"], function(Plotly) {                    window.PLOTLYENV=window.PLOTLYENV || {};                                    if (document.getElementById(\"81c12be0-3d81-4c8d-9595-cf751b5bc592\")) {                    Plotly.newPlot(                        \"81c12be0-3d81-4c8d-9595-cf751b5bc592\",                        [{\"hovertemplate\": \"x=%{x}<br>y=%{y}<extra></extra>\", \"legendgroup\": \"\", \"line\": {\"color\": \"#636efa\", \"dash\": \"solid\"}, \"mode\": \"lines\", \"name\": \"\", \"orientation\": \"v\", \"showlegend\": false, \"type\": \"scatter\", \"x\": [\"2022-01-13T05:43:00\", \"2022-01-13T05:44:00\", \"2022-01-13T05:45:00\", \"2022-01-13T05:46:00\", \"2022-01-13T05:47:00\", \"2022-01-13T05:48:00\", \"2022-01-13T05:49:00\", \"2022-01-13T05:50:00\", \"2022-01-13T05:51:00\", \"2022-01-13T05:52:00\", \"2022-01-13T05:53:00\", \"2022-01-13T05:54:00\", \"2022-01-13T05:55:00\", \"2022-01-13T05:56:00\", \"2022-01-13T05:57:00\", \"2022-01-13T05:58:00\", \"2022-01-13T05:59:00\", \"2022-01-13T06:00:00\", \"2022-01-13T06:01:00\", \"2022-01-13T06:02:00\", \"2022-01-13T06:03:00\", \"2022-01-13T06:04:00\", \"2022-01-13T06:05:00\", \"2022-01-13T06:06:00\", \"2022-01-13T06:07:00\", \"2022-01-13T06:08:00\", \"2022-01-13T06:09:00\", \"2022-01-13T06:10:00\", \"2022-01-13T06:11:00\", \"2022-01-13T06:12:00\"], \"xaxis\": \"x\", \"y\": [null, 0.0, -0.00723928328346668, -0.015417840663833893, -0.008178557380367213, 0.043664790943931386, 0.03296622988893105, 0.0544091702475491, 0.08991831293543306, 0.08524485157521688, 0.08994122205974175, 0.11919617380971026, 0.12249508771102757, 0.12059363039291782, 0.08540521544544433, 0.053378259653413807, 0.045382975267571624, 0.02737640355616744, 0.016906933744320618, 0.04187787924740949, 0.07390483503944001, 0.10359506015136244, 0.11431653033067146, 0.15903514099309124, 0.1835479040098731, 0.20913739586945201, 0.12244926946241019, 0.0939503188148505, 0.0959892308788568, 0.14771803358160085], \"yaxis\": \"y\"}],                        {\"legend\": {\"tracegroupgap\": 0}, \"margin\": {\"t\": 60}, \"template\": {\"data\": {\"bar\": [{\"error_x\": {\"color\": \"#2a3f5f\"}, \"error_y\": {\"color\": \"#2a3f5f\"}, \"marker\": {\"line\": {\"color\": \"#E5ECF6\", \"width\": 0.5}}, \"type\": \"bar\"}], \"barpolar\": [{\"marker\": {\"line\": {\"color\": \"#E5ECF6\", \"width\": 0.5}}, \"type\": \"barpolar\"}], \"carpet\": [{\"aaxis\": {\"endlinecolor\": \"#2a3f5f\", \"gridcolor\": \"white\", \"linecolor\": \"white\", \"minorgridcolor\": \"white\", \"startlinecolor\": \"#2a3f5f\"}, \"baxis\": {\"endlinecolor\": \"#2a3f5f\", \"gridcolor\": \"white\", \"linecolor\": \"white\", \"minorgridcolor\": \"white\", \"startlinecolor\": \"#2a3f5f\"}, \"type\": \"carpet\"}], \"choropleth\": [{\"colorbar\": {\"outlinewidth\": 0, \"ticks\": \"\"}, \"type\": \"choropleth\"}], \"contour\": [{\"colorbar\": {\"outlinewidth\": 0, \"ticks\": \"\"}, \"colorscale\": [[0.0, \"#0d0887\"], [0.1111111111111111, \"#46039f\"], [0.2222222222222222, \"#7201a8\"], [0.3333333333333333, \"#9c179e\"], [0.4444444444444444, \"#bd3786\"], [0.5555555555555556, \"#d8576b\"], [0.6666666666666666, \"#ed7953\"], [0.7777777777777778, \"#fb9f3a\"], [0.8888888888888888, \"#fdca26\"], [1.0, \"#f0f921\"]], \"type\": \"contour\"}], \"contourcarpet\": [{\"colorbar\": {\"outlinewidth\": 0, \"ticks\": \"\"}, \"type\": \"contourcarpet\"}], \"heatmap\": [{\"colorbar\": {\"outlinewidth\": 0, \"ticks\": \"\"}, \"colorscale\": [[0.0, \"#0d0887\"], [0.1111111111111111, \"#46039f\"], [0.2222222222222222, \"#7201a8\"], [0.3333333333333333, \"#9c179e\"], [0.4444444444444444, \"#bd3786\"], [0.5555555555555556, \"#d8576b\"], [0.6666666666666666, \"#ed7953\"], [0.7777777777777778, \"#fb9f3a\"], [0.8888888888888888, \"#fdca26\"], [1.0, \"#f0f921\"]], \"type\": \"heatmap\"}], \"heatmapgl\": [{\"colorbar\": {\"outlinewidth\": 0, \"ticks\": \"\"}, \"colorscale\": [[0.0, \"#0d0887\"], [0.1111111111111111, \"#46039f\"], [0.2222222222222222, \"#7201a8\"], [0.3333333333333333, \"#9c179e\"], [0.4444444444444444, \"#bd3786\"], [0.5555555555555556, \"#d8576b\"], [0.6666666666666666, \"#ed7953\"], [0.7777777777777778, \"#fb9f3a\"], [0.8888888888888888, \"#fdca26\"], [1.0, \"#f0f921\"]], \"type\": \"heatmapgl\"}], \"histogram\": [{\"marker\": {\"colorbar\": {\"outlinewidth\": 0, \"ticks\": \"\"}}, \"type\": \"histogram\"}], \"histogram2d\": [{\"colorbar\": {\"outlinewidth\": 0, \"ticks\": \"\"}, \"colorscale\": [[0.0, \"#0d0887\"], [0.1111111111111111, \"#46039f\"], [0.2222222222222222, \"#7201a8\"], [0.3333333333333333, \"#9c179e\"], [0.4444444444444444, \"#bd3786\"], [0.5555555555555556, \"#d8576b\"], [0.6666666666666666, \"#ed7953\"], [0.7777777777777778, \"#fb9f3a\"], [0.8888888888888888, \"#fdca26\"], [1.0, \"#f0f921\"]], \"type\": \"histogram2d\"}], \"histogram2dcontour\": [{\"colorbar\": {\"outlinewidth\": 0, \"ticks\": \"\"}, \"colorscale\": [[0.0, \"#0d0887\"], [0.1111111111111111, \"#46039f\"], [0.2222222222222222, \"#7201a8\"], [0.3333333333333333, \"#9c179e\"], [0.4444444444444444, \"#bd3786\"], [0.5555555555555556, \"#d8576b\"], [0.6666666666666666, \"#ed7953\"], [0.7777777777777778, \"#fb9f3a\"], [0.8888888888888888, \"#fdca26\"], [1.0, \"#f0f921\"]], \"type\": \"histogram2dcontour\"}], \"mesh3d\": [{\"colorbar\": {\"outlinewidth\": 0, \"ticks\": \"\"}, \"type\": \"mesh3d\"}], \"parcoords\": [{\"line\": {\"colorbar\": {\"outlinewidth\": 0, \"ticks\": \"\"}}, \"type\": \"parcoords\"}], \"pie\": [{\"automargin\": true, \"type\": \"pie\"}], \"scatter\": [{\"marker\": {\"colorbar\": {\"outlinewidth\": 0, \"ticks\": \"\"}}, \"type\": \"scatter\"}], \"scatter3d\": [{\"line\": {\"colorbar\": {\"outlinewidth\": 0, \"ticks\": \"\"}}, \"marker\": {\"colorbar\": {\"outlinewidth\": 0, \"ticks\": \"\"}}, \"type\": \"scatter3d\"}], \"scattercarpet\": [{\"marker\": {\"colorbar\": {\"outlinewidth\": 0, \"ticks\": \"\"}}, \"type\": \"scattercarpet\"}], \"scattergeo\": [{\"marker\": {\"colorbar\": {\"outlinewidth\": 0, \"ticks\": \"\"}}, \"type\": \"scattergeo\"}], \"scattergl\": [{\"marker\": {\"colorbar\": {\"outlinewidth\": 0, \"ticks\": \"\"}}, \"type\": \"scattergl\"}], \"scattermapbox\": [{\"marker\": {\"colorbar\": {\"outlinewidth\": 0, \"ticks\": \"\"}}, \"type\": \"scattermapbox\"}], \"scatterpolar\": [{\"marker\": {\"colorbar\": {\"outlinewidth\": 0, \"ticks\": \"\"}}, \"type\": \"scatterpolar\"}], \"scatterpolargl\": [{\"marker\": {\"colorbar\": {\"outlinewidth\": 0, \"ticks\": \"\"}}, \"type\": \"scatterpolargl\"}], \"scatterternary\": [{\"marker\": {\"colorbar\": {\"outlinewidth\": 0, \"ticks\": \"\"}}, \"type\": \"scatterternary\"}], \"surface\": [{\"colorbar\": {\"outlinewidth\": 0, \"ticks\": \"\"}, \"colorscale\": [[0.0, \"#0d0887\"], [0.1111111111111111, \"#46039f\"], [0.2222222222222222, \"#7201a8\"], [0.3333333333333333, \"#9c179e\"], [0.4444444444444444, \"#bd3786\"], [0.5555555555555556, \"#d8576b\"], [0.6666666666666666, \"#ed7953\"], [0.7777777777777778, \"#fb9f3a\"], [0.8888888888888888, \"#fdca26\"], [1.0, \"#f0f921\"]], \"type\": \"surface\"}], \"table\": [{\"cells\": {\"fill\": {\"color\": \"#EBF0F8\"}, \"line\": {\"color\": \"white\"}}, \"header\": {\"fill\": {\"color\": \"#C8D4E3\"}, \"line\": {\"color\": \"white\"}}, \"type\": \"table\"}]}, \"layout\": {\"annotationdefaults\": {\"arrowcolor\": \"#2a3f5f\", \"arrowhead\": 0, \"arrowwidth\": 1}, \"autotypenumbers\": \"strict\", \"coloraxis\": {\"colorbar\": {\"outlinewidth\": 0, \"ticks\": \"\"}}, \"colorscale\": {\"diverging\": [[0, \"#8e0152\"], [0.1, \"#c51b7d\"], [0.2, \"#de77ae\"], [0.3, \"#f1b6da\"], [0.4, \"#fde0ef\"], [0.5, \"#f7f7f7\"], [0.6, \"#e6f5d0\"], [0.7, \"#b8e186\"], [0.8, \"#7fbc41\"], [0.9, \"#4d9221\"], [1, \"#276419\"]], \"sequential\": [[0.0, \"#0d0887\"], [0.1111111111111111, \"#46039f\"], [0.2222222222222222, \"#7201a8\"], [0.3333333333333333, \"#9c179e\"], [0.4444444444444444, \"#bd3786\"], [0.5555555555555556, \"#d8576b\"], [0.6666666666666666, \"#ed7953\"], [0.7777777777777778, \"#fb9f3a\"], [0.8888888888888888, \"#fdca26\"], [1.0, \"#f0f921\"]], \"sequentialminus\": [[0.0, \"#0d0887\"], [0.1111111111111111, \"#46039f\"], [0.2222222222222222, \"#7201a8\"], [0.3333333333333333, \"#9c179e\"], [0.4444444444444444, \"#bd3786\"], [0.5555555555555556, \"#d8576b\"], [0.6666666666666666, \"#ed7953\"], [0.7777777777777778, \"#fb9f3a\"], [0.8888888888888888, \"#fdca26\"], [1.0, \"#f0f921\"]]}, \"colorway\": [\"#636efa\", \"#EF553B\", \"#00cc96\", \"#ab63fa\", \"#FFA15A\", \"#19d3f3\", \"#FF6692\", \"#B6E880\", \"#FF97FF\", \"#FECB52\"], \"font\": {\"color\": \"#2a3f5f\"}, \"geo\": {\"bgcolor\": \"white\", \"lakecolor\": \"white\", \"landcolor\": \"#E5ECF6\", \"showlakes\": true, \"showland\": true, \"subunitcolor\": \"white\"}, \"hoverlabel\": {\"align\": \"left\"}, \"hovermode\": \"closest\", \"mapbox\": {\"style\": \"light\"}, \"paper_bgcolor\": \"white\", \"plot_bgcolor\": \"#E5ECF6\", \"polar\": {\"angularaxis\": {\"gridcolor\": \"white\", \"linecolor\": \"white\", \"ticks\": \"\"}, \"bgcolor\": \"#E5ECF6\", \"radialaxis\": {\"gridcolor\": \"white\", \"linecolor\": \"white\", \"ticks\": \"\"}}, \"scene\": {\"xaxis\": {\"backgroundcolor\": \"#E5ECF6\", \"gridcolor\": \"white\", \"gridwidth\": 2, \"linecolor\": \"white\", \"showbackground\": true, \"ticks\": \"\", \"zerolinecolor\": \"white\"}, \"yaxis\": {\"backgroundcolor\": \"#E5ECF6\", \"gridcolor\": \"white\", \"gridwidth\": 2, \"linecolor\": \"white\", \"showbackground\": true, \"ticks\": \"\", \"zerolinecolor\": \"white\"}, \"zaxis\": {\"backgroundcolor\": \"#E5ECF6\", \"gridcolor\": \"white\", \"gridwidth\": 2, \"linecolor\": \"white\", \"showbackground\": true, \"ticks\": \"\", \"zerolinecolor\": \"white\"}}, \"shapedefaults\": {\"line\": {\"color\": \"#2a3f5f\"}}, \"ternary\": {\"aaxis\": {\"gridcolor\": \"white\", \"linecolor\": \"white\", \"ticks\": \"\"}, \"baxis\": {\"gridcolor\": \"white\", \"linecolor\": \"white\", \"ticks\": \"\"}, \"bgcolor\": \"#E5ECF6\", \"caxis\": {\"gridcolor\": \"white\", \"linecolor\": \"white\", \"ticks\": \"\"}}, \"title\": {\"x\": 0.05}, \"xaxis\": {\"automargin\": true, \"gridcolor\": \"white\", \"linecolor\": \"white\", \"ticks\": \"\", \"title\": {\"standoff\": 15}, \"zerolinecolor\": \"white\", \"zerolinewidth\": 2}, \"yaxis\": {\"automargin\": true, \"gridcolor\": \"white\", \"linecolor\": \"white\", \"ticks\": \"\", \"title\": {\"standoff\": 15}, \"zerolinecolor\": \"white\", \"zerolinewidth\": 2}}}, \"xaxis\": {\"anchor\": \"y\", \"domain\": [0.0, 1.0], \"title\": {\"text\": \"x\"}}, \"yaxis\": {\"anchor\": \"x\", \"domain\": [0.0, 1.0], \"title\": {\"text\": \"y\"}}},                        {\"responsive\": true}                    ).then(function(){\n",
       "                            \n",
       "var gd = document.getElementById('81c12be0-3d81-4c8d-9595-cf751b5bc592');\n",
       "var x = new MutationObserver(function (mutations, observer) {{\n",
       "        var display = window.getComputedStyle(gd).display;\n",
       "        if (!display || display === 'none') {{\n",
       "            console.log([gd, 'removed!']);\n",
       "            Plotly.purge(gd);\n",
       "            observer.disconnect();\n",
       "        }}\n",
       "}});\n",
       "\n",
       "// Listen for the removal of the full notebook cells\n",
       "var notebookContainer = gd.closest('#notebook-container');\n",
       "if (notebookContainer) {{\n",
       "    x.observe(notebookContainer, {childList: true});\n",
       "}}\n",
       "\n",
       "// Listen for the clearing of the current output cell\n",
       "var outputEl = gd.closest('.output');\n",
       "if (outputEl) {{\n",
       "    x.observe(outputEl, {childList: true});\n",
       "}}\n",
       "\n",
       "                        })                };                });            </script>        </div>"
      ]
     },
     "metadata": {},
     "output_type": "display_data"
    }
   ],
   "source": [
    "cumulretpct = cumulret * 100\n",
    "cumulretpct = cumulretpct.reset_index()\n",
    "cumulretpct.dtypes\n",
    "import plotly.express as px\n",
    "import matplotlib.pyplot as plt\n",
    "fig = px.line(x=cumulretpct['Time'],y=cumulretpct['Open'])\n",
    "fig.show()\n",
    "#plt.plot(cumulretpct['Time'],cumulretpct['Open'])"
   ]
  },
  {
   "cell_type": "code",
   "execution_count": 60,
   "metadata": {},
   "outputs": [
    {
     "name": "stdout",
     "output_type": "stream",
     "text": [
      "No Trade Executed\n"
     ]
    }
   ],
   "source": [
    "strategytest('BTCUSDT', 0.001)"
   ]
  },
  {
   "cell_type": "code",
   "execution_count": 5,
   "metadata": {},
   "outputs": [
    {
     "ename": "SyntaxError",
     "evalue": "invalid syntax (<ipython-input-5-f53dfe51d0a4>, line 1)",
     "output_type": "error",
     "traceback": [
      "\u001b[0;36m  File \u001b[0;32m\"<ipython-input-5-f53dfe51d0a4>\"\u001b[0;36m, line \u001b[0;32m1\u001b[0m\n\u001b[0;31m    import ta-lib\u001b[0m\n\u001b[0m             ^\u001b[0m\n\u001b[0;31mSyntaxError\u001b[0m\u001b[0;31m:\u001b[0m invalid syntax\n"
     ]
    }
   ],
   "source": [
    "import ta-lib"
   ]
  }
 ],
 "metadata": {
  "kernelspec": {
   "display_name": "Python 3",
   "language": "python",
   "name": "python3"
  },
  "language_info": {
   "codemirror_mode": {
    "name": "ipython",
    "version": 3
   },
   "file_extension": ".py",
   "mimetype": "text/x-python",
   "name": "python",
   "nbconvert_exporter": "python",
   "pygments_lexer": "ipython3",
   "version": "3.8.5"
  }
 },
 "nbformat": 4,
 "nbformat_minor": 4
}
